{
 "cells": [
  {
   "cell_type": "markdown",
   "id": "f7527467",
   "metadata": {},
   "source": [
    "# Battery bidding functions"
   ]
  },
  {
   "cell_type": "markdown",
   "id": "a897b409",
   "metadata": {},
   "source": [
    "## To do"
   ]
  },
  {
   "cell_type": "markdown",
   "id": "7a3c1b54",
   "metadata": {},
   "source": [
    "This code represents a battery which is participating in a real-time market (every 5min). At the beginning of each market interval, the battery places a buy bid (maximum price at which it is willing to buy) and a supply bid (minimum price at which it is willing to sell). Then, the market reveals the true real-time price. If the price is lower than the buy bid, the battery charges. If the price is higher than the sell price, the battery discharges. \n",
    "\n",
    "The objective of this task is to write bidding functions which maximize the battery's profit or some other objective.\n",
    "\n",
    "Please go through the following steps:\n",
    "\n",
    "Week 3:\n",
    "* Go through the code and try to understand each part. Currently, a very simple bidding function (simple_bid()) is implemented. Run the code from the top.\n",
    "* Write the function calculate_battery_profit() which calculates the profits from operating the battery.\n",
    "* Write the function visualize_battery_dispatch() which visualizes when the battery dispatches as well as the market price.\n",
    "* Test your code for a week-long simulation period.\n",
    "\n",
    "Week 4:\n",
    "* Think of other evaluations and visualizations of the battery behavior and implement them.\n",
    "* Make a strategy of how to implement one of the following new bidding functions and discuss them with Marie-Louise and Lynne:\n",
    "    - bid_costminizing()\n",
    "    - bid_optimal_autarky()\n",
    "    - bid_optimal_RL()\n",
    "* Implement your bidding function and test and visualize it.\n",
    "\n",
    "Week 5:\n",
    "* Repeat the same for the other bidding functions.\n",
    "\n",
    "Once you have finalized your code, we will implement your code in GridLAB-D and test them in a more complex distribution system. For the next steps, have a look at the GoogleDoc with your workplan-\n",
    "\n",
    "When you have questions, don't hesitate to contact Anna, Lynne, or Marie-Louise!"
   ]
  },
  {
   "cell_type": "markdown",
   "id": "abd9b2f2",
   "metadata": {},
   "source": [
    "## Modules"
   ]
  },
  {
   "cell_type": "code",
   "execution_count": 187,
   "id": "45666bc0",
   "metadata": {},
   "outputs": [],
   "source": [
    "import pandas\n",
    "pandas.options.mode.chained_assignment = None\n",
    "#import cvxpy\n",
    "from matplotlib.dates import drange\n",
    "import datetime"
   ]
  },
  {
   "cell_type": "markdown",
   "id": "6e5bf0d5",
   "metadata": {},
   "source": [
    "## Define bidding functions"
   ]
  },
  {
   "cell_type": "code",
   "execution_count": 168,
   "id": "198161cd",
   "metadata": {},
   "outputs": [],
   "source": [
    "def bid_simple(dt_sim_time,df_battery_state,df_WS,df_prices):\n",
    "    prec = 3 # rounding\n",
    "    \n",
    "    # Price bid\n",
    "    mean_p = df_WS.loc[dt_sim_time:(dt_sim_time+datetime.timedelta(hours = 4))]['DA'].mean()\n",
    "    df_battery_state['p_sell'] = mean_p / df_battery_state['efficiency']\n",
    "    df_battery_state['p_buy'] = mean_p * df_battery_state['efficiency']\n",
    "    \n",
    "    # Quantity depends on SOC and u\n",
    "    safety_fac = 0.99\n",
    "    df_battery_state['residual_s'] = round((3600./interval)*(df_battery_state['SOC_t'] - df_battery_state['SOC_min']),prec) #Recalculate to kW\n",
    "    #print(df_battery_state[['residual_s','u_max']])\n",
    "    df_battery_state['q_sell'] = df_battery_state[['residual_s','u_max']].min(axis=1) #in kW / only if fully dischargeable\n",
    "    df_battery_state['q_sell'].loc[df_battery_state['q_sell'] < 0.1] = 0.0\n",
    "    df_battery_state['residual_b'] = round((3600./interval)*(safety_fac*df_battery_state['SOC_max'] - df_battery_state['SOC_t']),prec) #Recalculate to kW\n",
    "    #print(df_battery_state[['residual_b','u_max']])\n",
    "    df_battery_state['q_buy'] = df_battery_state[['residual_b','u_max']].min(axis=1) #in kW\n",
    "    df_battery_state['q_buy'].loc[df_battery_state['q_buy'] < 0.1] = 0.0\n",
    "    \n",
    "    #print(df_battery_state)\n",
    "    return df_battery_state"
   ]
  },
  {
   "cell_type": "code",
   "execution_count": 188,
   "id": "f8c0b80c",
   "metadata": {},
   "outputs": [],
   "source": [
    "def bid_costminizing(df_battery_state): # Adjust input\n",
    "    time_horizon = 4*3600/interval # optimization horizon\n",
    "    # Determine the optimal dispatch schedule of the battery over the optimization horizon,\n",
    "    #    given day-ahead (DA) prices from df_WS. Use the package cvxpy.\n",
    "    # Determine profits from (t+1) on if battery had charged/discharged/not done anything in t\n",
    "    # The profit/cost from charging/doing nothing/discharging in t and the future value in (t+1) \n",
    "    #    if the value of the action charging/doing nothing/discharging in t\n",
    "    #    --> This principle is called the Bellman principle\n",
    "    # Which prices make the battery operator equivalent between:\n",
    "    # - charging or doing nothing? --> This is the maximum price at which the battery operator\n",
    "    #   is willing to buy\n",
    "    # - discharging or doing nothing? --> This is the minimum price at which the battery operator\n",
    "    #   is willing to sell\n",
    "    return df_battery_state"
   ]
  },
  {
   "cell_type": "code",
   "execution_count": 170,
   "id": "c8bb4349",
   "metadata": {},
   "outputs": [],
   "source": [
    "def bid_optimal_autarky(df_battery_state):\n",
    "    # Design and implement a bidding strategy of an agent who values a high state-of-charge\n",
    "    # but is willing to go below the minimum SOC if the agent could achieve substantial profits\n",
    "    return df_battery_state"
   ]
  },
  {
   "cell_type": "code",
   "execution_count": 171,
   "id": "c4fdc6a6",
   "metadata": {},
   "outputs": [],
   "source": [
    "def bid_optimal_RL(df_battery_state):\n",
    "    # Maximize battery profit using Reinforcement Learning\n",
    "    # Use the following RL algorithm: https://dl.acm.org/doi/10.1145/3208903.3208907 (Section 4)\n",
    "    return df_battery_state"
   ]
  },
  {
   "cell_type": "markdown",
   "id": "75948f7f",
   "metadata": {},
   "source": [
    "## Evaluation functions"
   ]
  },
  {
   "cell_type": "code",
   "execution_count": 172,
   "id": "94d859cd",
   "metadata": {},
   "outputs": [],
   "source": [
    "def calculate_battery_profit():\n",
    "    # Calculate profit from selling and buying energy\n",
    "    return profit"
   ]
  },
  {
   "cell_type": "code",
   "execution_count": null,
   "id": "fd56eae6",
   "metadata": {},
   "outputs": [],
   "source": [
    "def visualize_battery_dispatch():\n",
    "    # Visualize battery dispatch over time as well as the market price\n",
    "    return"
   ]
  },
  {
   "cell_type": "markdown",
   "id": "d57983a3",
   "metadata": {},
   "source": [
    "## Other functions"
   ]
  },
  {
   "cell_type": "code",
   "execution_count": 173,
   "id": "519da6a9",
   "metadata": {},
   "outputs": [],
   "source": [
    "# Update battery function: updates the batteries' state of charge\n",
    "# (Same as in market_simulation code)\n",
    "def update_battery(df_battery_state):\n",
    "    #-1: discharging, 0 no activity, 1 charging\n",
    "    #history is saved by battery recorder (P_out)\n",
    "    df_battery_state['active_t-1'] = df_battery_state['active_t']\n",
    "    df_battery_state['active_t'] = 0 \n",
    "    df_battery_state['SOC_t'] = df_battery_state['SOC_t']*df_battery_state['efficiency']\n",
    "    df_battery_state['SOC_t'].loc[df_battery_state['active_t-1'] == -1] += interval/3600*df_battery_state['q_sell'].loc[df_battery_state['active_t-1'] == -1]\n",
    "    df_battery_state['SOC_t'].loc[df_battery_state['active_t-1'] == 1] += interval/3600*df_battery_state['q_buy'].loc[df_battery_state['active_t-1'] == 1]\n",
    "    return df_battery_state"
   ]
  },
  {
   "cell_type": "code",
   "execution_count": 174,
   "id": "fbb75f43",
   "metadata": {},
   "outputs": [],
   "source": [
    "# Write bids to result tables\n",
    "def submit_bids_battery(dt_sim_time,retail,df_bids,df_supply_bids,df_buy_bids):\n",
    "    for ind in df_bids.index:\n",
    "        if df_bids['q_sell'].loc[ind] > 0.0:\n",
    "            #retail.sell(df_bids['q_sell'].loc[ind],df_bids['p_sell'].loc[ind],gen_name=ind)\n",
    "            df_supply_bids = df_supply_bids.append(pandas.DataFrame(columns=df_supply_bids.columns,data=[[dt_sim_time,ind,float(df_bids['p_sell'].loc[ind]),float(df_bids['q_sell'].loc[ind])]]),ignore_index=True)\n",
    "        if df_bids['q_buy'].loc[ind] > 0.0:\n",
    "            #retail.buy(df_bids['q_buy'].loc[ind],df_bids['p_buy'].loc[ind],active=df_bids['active_t-1'].loc[ind],appliance_name=ind)\n",
    "            df_buy_bids = df_buy_bids.append(pandas.DataFrame(columns=df_buy_bids.columns,data=[[dt_sim_time,ind,float(df_bids['p_buy'].loc[ind]),float(df_bids['q_buy'].loc[ind])]]),ignore_index=True)\n",
    "    df_bids['active_t-1'] = 0\n",
    "    return retail,df_supply_bids,df_buy_bids"
   ]
  },
  {
   "cell_type": "code",
   "execution_count": 184,
   "id": "460e8980",
   "metadata": {},
   "outputs": [],
   "source": [
    "# Determines if battery should be dispatched and how\n",
    "def set_battery_by_price(dt_sim_time,df_bids_battery,Pd, df_awarded_bids):\n",
    "    #Determine activity\n",
    "    df_bids_battery.at[:,'active_t'] = 0\n",
    "    df_bids_battery.at[(df_bids_battery['p_buy'] >= Pd) & (df_bids_battery['SOC_t'] < df_bids_battery['SOC_max']),'active_t'] = 1\n",
    "    df_bids_battery.at[(df_bids_battery['p_sell'] <= Pd) & (df_bids_battery['SOC_t'] > 0.0),'active_t'] = -1\n",
    "    #print(df_bids_battery)\n",
    "    # Save to awarded bids\n",
    "    for battery in df_bids_battery.index:\n",
    "        batt_number = battery\n",
    "        SOC = df_bids_battery['SOC_t'].loc[battery] #this is SOC at the beginning of the period t\n",
    "        active = df_bids_battery['active_t'].loc[battery] #this is activity in t\n",
    "        if active == 1:\n",
    "            q_bid = df_bids_battery['q_buy'].loc[battery]\n",
    "            p_bid = df_bids_battery['p_buy'].loc[battery]\n",
    "            df_awarded_bids = df_awarded_bids.append(pandas.DataFrame(columns=df_awarded_bids.columns,data=[[dt_sim_time,battery,float(p_bid),float(q_bid),'D']]),ignore_index=True)\n",
    "        elif active == -1:\n",
    "            q_bid = df_bids_battery['q_sell'].loc[battery]\n",
    "            p_bid = df_bids_battery['p_sell'].loc[battery]\n",
    "            df_awarded_bids = df_awarded_bids.append(pandas.DataFrame(columns=df_awarded_bids.columns,data=[[dt_sim_time,battery,float(p_bid),float(q_bid),'S']]),ignore_index=True)\n",
    "    return df_bids_battery,df_awarded_bids"
   ]
  },
  {
   "cell_type": "markdown",
   "id": "6e206300",
   "metadata": {},
   "source": [
    "## Initialize objects and data"
   ]
  },
  {
   "cell_type": "code",
   "execution_count": 176,
   "id": "ff23eb3f",
   "metadata": {},
   "outputs": [],
   "source": [
    "# Initialize battery 1\n",
    "cols_battery = ['battery_name','house_name','SOC_min','SOC_max','i_max','u_max','efficiency','SOC_t','active_t-1','active_t','threshold_sell','threshold_buy','q_sell','p_sell','q_buy','p_buy']\n",
    "values = [['batt_1','house_1',1.,5.,1.,1.,0.99,2.5,0,0,0.0,0.0,0.0,0.0,0.0,0.0]]\n",
    "df_battery_state = pandas.DataFrame(columns=cols_battery,data=values)"
   ]
  },
  {
   "cell_type": "code",
   "execution_count": 177,
   "id": "40669c05",
   "metadata": {},
   "outputs": [
    {
     "data": {
      "text/html": [
       "<div>\n",
       "<style scoped>\n",
       "    .dataframe tbody tr th:only-of-type {\n",
       "        vertical-align: middle;\n",
       "    }\n",
       "\n",
       "    .dataframe tbody tr th {\n",
       "        vertical-align: top;\n",
       "    }\n",
       "\n",
       "    .dataframe thead th {\n",
       "        text-align: right;\n",
       "    }\n",
       "</style>\n",
       "<table border=\"1\" class=\"dataframe\">\n",
       "  <thead>\n",
       "    <tr style=\"text-align: right;\">\n",
       "      <th></th>\n",
       "      <th>DA</th>\n",
       "      <th>RT</th>\n",
       "    </tr>\n",
       "  </thead>\n",
       "  <tbody>\n",
       "    <tr>\n",
       "      <th>2016-01-01 00:00:00</th>\n",
       "      <td>18.22</td>\n",
       "      <td>15.48</td>\n",
       "    </tr>\n",
       "    <tr>\n",
       "      <th>2016-01-01 00:05:00</th>\n",
       "      <td>18.22</td>\n",
       "      <td>15.48</td>\n",
       "    </tr>\n",
       "    <tr>\n",
       "      <th>2016-01-01 00:10:00</th>\n",
       "      <td>18.22</td>\n",
       "      <td>15.48</td>\n",
       "    </tr>\n",
       "    <tr>\n",
       "      <th>2016-01-01 00:15:00</th>\n",
       "      <td>18.22</td>\n",
       "      <td>15.33</td>\n",
       "    </tr>\n",
       "    <tr>\n",
       "      <th>2016-01-01 00:20:00</th>\n",
       "      <td>18.22</td>\n",
       "      <td>15.33</td>\n",
       "    </tr>\n",
       "  </tbody>\n",
       "</table>\n",
       "</div>"
      ],
      "text/plain": [
       "                        DA     RT\n",
       "2016-01-01 00:00:00  18.22  15.48\n",
       "2016-01-01 00:05:00  18.22  15.48\n",
       "2016-01-01 00:10:00  18.22  15.48\n",
       "2016-01-01 00:15:00  18.22  15.33\n",
       "2016-01-01 00:20:00  18.22  15.33"
      ]
     },
     "execution_count": 177,
     "metadata": {},
     "output_type": "execute_result"
    }
   ],
   "source": [
    "# WS costs\n",
    "df_WS = pandas.read_csv('glm_generation_Austin/Ercot_LZ_SOUTH.csv',parse_dates=True,index_col=[0]) # For year 2016\n",
    "df_WS.head()"
   ]
  },
  {
   "cell_type": "code",
   "execution_count": 186,
   "id": "dc42b702",
   "metadata": {},
   "outputs": [],
   "source": [
    "# Initialize market parameters\n",
    "start = datetime.datetime( 2016, 7, 1)\n",
    "end = datetime.datetime( 2016, 7, 1, 1, 0)\n",
    "interval = 300 # interval of market operation\n",
    "market_intervals = pandas.date_range(start,end,freq=str(int(interval/60))+'min')"
   ]
  },
  {
   "cell_type": "markdown",
   "id": "69848e24",
   "metadata": {},
   "source": [
    "## Run market"
   ]
  },
  {
   "cell_type": "code",
   "execution_count": 191,
   "id": "9333d838",
   "metadata": {},
   "outputs": [
    {
     "name": "stdout",
     "output_type": "stream",
     "text": [
      "2016-07-01 00:00:00\n",
      "19.48\n",
      "2016-07-01 00:05:00\n",
      "19.48\n",
      "2016-07-01 00:10:00\n",
      "19.48\n",
      "2016-07-01 00:15:00\n",
      "19.92\n",
      "2016-07-01 00:20:00\n",
      "19.92\n",
      "2016-07-01 00:25:00\n",
      "19.92\n",
      "2016-07-01 00:30:00\n",
      "19.88\n",
      "2016-07-01 00:35:00\n",
      "19.88\n",
      "2016-07-01 00:40:00\n",
      "19.88\n",
      "2016-07-01 00:45:00\n",
      "19.72\n",
      "2016-07-01 00:50:00\n",
      "19.72\n",
      "2016-07-01 00:55:00\n",
      "19.72\n",
      "2016-07-01 01:00:00\n",
      "19.45\n"
     ]
    }
   ],
   "source": [
    "# Set up df to save results\n",
    "df_prices = pandas.DataFrame(columns=['clearing_price','clearing_quantity','unresponsive_loads'])\n",
    "df_buy_bids = pandas.DataFrame(columns=['timestamp','appliance_name','bid_price','bid_quantity'])\n",
    "df_supply_bids = pandas.DataFrame(columns=['timestamp','appliance_name','bid_price','bid_quantity'])\n",
    "df_awarded_bids = pandas.DataFrame(columns=['timestamp','appliance_name','bid_price','bid_quantity','S_D'])\n",
    "\n",
    "# Run market\n",
    "for dt_sim_time in market_intervals:\n",
    "    print(dt_sim_time)\n",
    "    # Update physical state of battery\n",
    "    df_battery_state = update_battery(df_battery_state)\n",
    "    \n",
    "    # Setup market\n",
    "    retail = None # this is a placeholder\n",
    "    \n",
    "    # Bid : THIS IS WHERE YOU SHOULD IMPLEMENT AND TEST BIDDING FUNCTIONS\n",
    "    df_battery_state = bid_simple(dt_sim_time,df_battery_state,df_WS,df_prices)\n",
    "    #bid_costminizing(dt_sim_time,df_battery_state,df_WS,df_prices)\n",
    "    #bid_optimal_autarky(dt_sim_time,df_battery_state,df_WS,df_prices)\n",
    "    retail,df_supply_bids,df_buy_bids = submit_bids_battery(dt_sim_time,retail,df_battery_state,df_supply_bids,df_buy_bids)\n",
    "    \n",
    "    # Clear market and save price\n",
    "    Pd = df_WS['RT'].loc[dt_sim_time:dt_sim_time].iloc[-1]\n",
    "    Qd = max(df_battery_state['q_sell'].loc[df_battery_state['p_sell'] <= Pd].sum(),df_battery_state['q_buy'].loc[df_battery_state['p_buy'] >= Pd].sum())\n",
    "    unresp_load = 0.0\n",
    "    df_temp = pandas.DataFrame(index=[dt_sim_time],columns=['clearing_price','clearing_quantity','unresponsive_loads'],data=[[Pd,Qd,unresp_load]])\n",
    "    df_prices = df_prices.append(df_temp)\n",
    "    \n",
    "    # Dispatch battery\n",
    "    df_bids_battery,df_awarded_bids = set_battery_by_price(dt_sim_time,df_battery_state,Pd, df_awarded_bids)"
   ]
  },
  {
   "cell_type": "markdown",
   "id": "c9a8c032",
   "metadata": {},
   "source": [
    "## Visualize market results"
   ]
  },
  {
   "cell_type": "code",
   "execution_count": 180,
   "id": "e03ec8bf",
   "metadata": {},
   "outputs": [
    {
     "data": {
      "text/html": [
       "<div>\n",
       "<style scoped>\n",
       "    .dataframe tbody tr th:only-of-type {\n",
       "        vertical-align: middle;\n",
       "    }\n",
       "\n",
       "    .dataframe tbody tr th {\n",
       "        vertical-align: top;\n",
       "    }\n",
       "\n",
       "    .dataframe thead th {\n",
       "        text-align: right;\n",
       "    }\n",
       "</style>\n",
       "<table border=\"1\" class=\"dataframe\">\n",
       "  <thead>\n",
       "    <tr style=\"text-align: right;\">\n",
       "      <th></th>\n",
       "      <th>timestamp</th>\n",
       "      <th>appliance_name</th>\n",
       "      <th>bid_price</th>\n",
       "      <th>bid_quantity</th>\n",
       "    </tr>\n",
       "  </thead>\n",
       "  <tbody>\n",
       "    <tr>\n",
       "      <th>0</th>\n",
       "      <td>2016-07-01</td>\n",
       "      <td>0</td>\n",
       "      <td>17.274288</td>\n",
       "      <td>1.0</td>\n",
       "    </tr>\n",
       "  </tbody>\n",
       "</table>\n",
       "</div>"
      ],
      "text/plain": [
       "   timestamp appliance_name  bid_price  bid_quantity\n",
       "0 2016-07-01              0  17.274288           1.0"
      ]
     },
     "execution_count": 180,
     "metadata": {},
     "output_type": "execute_result"
    }
   ],
   "source": [
    "# buy bids\n",
    "df_buy_bids"
   ]
  },
  {
   "cell_type": "code",
   "execution_count": 181,
   "id": "e30dd684",
   "metadata": {},
   "outputs": [
    {
     "data": {
      "text/html": [
       "<div>\n",
       "<style scoped>\n",
       "    .dataframe tbody tr th:only-of-type {\n",
       "        vertical-align: middle;\n",
       "    }\n",
       "\n",
       "    .dataframe tbody tr th {\n",
       "        vertical-align: top;\n",
       "    }\n",
       "\n",
       "    .dataframe thead th {\n",
       "        text-align: right;\n",
       "    }\n",
       "</style>\n",
       "<table border=\"1\" class=\"dataframe\">\n",
       "  <thead>\n",
       "    <tr style=\"text-align: right;\">\n",
       "      <th></th>\n",
       "      <th>timestamp</th>\n",
       "      <th>appliance_name</th>\n",
       "      <th>bid_price</th>\n",
       "      <th>bid_quantity</th>\n",
       "    </tr>\n",
       "  </thead>\n",
       "  <tbody>\n",
       "    <tr>\n",
       "      <th>0</th>\n",
       "      <td>2016-07-01</td>\n",
       "      <td>0</td>\n",
       "      <td>17.625026</td>\n",
       "      <td>1.0</td>\n",
       "    </tr>\n",
       "  </tbody>\n",
       "</table>\n",
       "</div>"
      ],
      "text/plain": [
       "   timestamp appliance_name  bid_price  bid_quantity\n",
       "0 2016-07-01              0  17.625026           1.0"
      ]
     },
     "execution_count": 181,
     "metadata": {},
     "output_type": "execute_result"
    }
   ],
   "source": [
    "# supply bids\n",
    "df_supply_bids"
   ]
  },
  {
   "cell_type": "code",
   "execution_count": 182,
   "id": "111be030",
   "metadata": {},
   "outputs": [
    {
     "data": {
      "text/html": [
       "<div>\n",
       "<style scoped>\n",
       "    .dataframe tbody tr th:only-of-type {\n",
       "        vertical-align: middle;\n",
       "    }\n",
       "\n",
       "    .dataframe tbody tr th {\n",
       "        vertical-align: top;\n",
       "    }\n",
       "\n",
       "    .dataframe thead th {\n",
       "        text-align: right;\n",
       "    }\n",
       "</style>\n",
       "<table border=\"1\" class=\"dataframe\">\n",
       "  <thead>\n",
       "    <tr style=\"text-align: right;\">\n",
       "      <th></th>\n",
       "      <th>timestamp</th>\n",
       "      <th>appliance_name</th>\n",
       "      <th>bid_price</th>\n",
       "      <th>bid_quantity</th>\n",
       "      <th>S_D</th>\n",
       "    </tr>\n",
       "  </thead>\n",
       "  <tbody>\n",
       "    <tr>\n",
       "      <th>0</th>\n",
       "      <td>2016-07-01</td>\n",
       "      <td>0</td>\n",
       "      <td>17.625026</td>\n",
       "      <td>1.0</td>\n",
       "      <td>S</td>\n",
       "    </tr>\n",
       "  </tbody>\n",
       "</table>\n",
       "</div>"
      ],
      "text/plain": [
       "   timestamp appliance_name  bid_price  bid_quantity S_D\n",
       "0 2016-07-01              0  17.625026           1.0   S"
      ]
     },
     "execution_count": 182,
     "metadata": {},
     "output_type": "execute_result"
    }
   ],
   "source": [
    "# awarded bids\n",
    "df_awarded_bids"
   ]
  },
  {
   "cell_type": "code",
   "execution_count": 183,
   "id": "5053079e",
   "metadata": {},
   "outputs": [
    {
     "data": {
      "text/html": [
       "<div>\n",
       "<style scoped>\n",
       "    .dataframe tbody tr th:only-of-type {\n",
       "        vertical-align: middle;\n",
       "    }\n",
       "\n",
       "    .dataframe tbody tr th {\n",
       "        vertical-align: top;\n",
       "    }\n",
       "\n",
       "    .dataframe thead th {\n",
       "        text-align: right;\n",
       "    }\n",
       "</style>\n",
       "<table border=\"1\" class=\"dataframe\">\n",
       "  <thead>\n",
       "    <tr style=\"text-align: right;\">\n",
       "      <th></th>\n",
       "      <th>clearing_price</th>\n",
       "      <th>clearing_quantity</th>\n",
       "      <th>unresponsive_loads</th>\n",
       "    </tr>\n",
       "  </thead>\n",
       "  <tbody>\n",
       "    <tr>\n",
       "      <th>2016-07-01</th>\n",
       "      <td>19.48</td>\n",
       "      <td>1.0</td>\n",
       "      <td>0.0</td>\n",
       "    </tr>\n",
       "  </tbody>\n",
       "</table>\n",
       "</div>"
      ],
      "text/plain": [
       "            clearing_price  clearing_quantity  unresponsive_loads\n",
       "2016-07-01           19.48                1.0                 0.0"
      ]
     },
     "execution_count": 183,
     "metadata": {},
     "output_type": "execute_result"
    }
   ],
   "source": [
    "# market result\n",
    "df_prices"
   ]
  },
  {
   "cell_type": "markdown",
   "id": "b2f20c6d",
   "metadata": {},
   "source": [
    "## Calculate battery profit"
   ]
  },
  {
   "cell_type": "code",
   "execution_count": null,
   "id": "59284f0d",
   "metadata": {},
   "outputs": [],
   "source": [
    "calculate_battery_profit()"
   ]
  },
  {
   "cell_type": "code",
   "execution_count": null,
   "id": "e7faed6c",
   "metadata": {},
   "outputs": [],
   "source": [
    "visualize_battery_dispatch()"
   ]
  }
 ],
 "metadata": {
  "kernelspec": {
   "display_name": "venv_market_simulation",
   "language": "python",
   "name": "venv_market_simulation"
  },
  "language_info": {
   "codemirror_mode": {
    "name": "ipython",
    "version": 3
   },
   "file_extension": ".py",
   "mimetype": "text/x-python",
   "name": "python",
   "nbconvert_exporter": "python",
   "pygments_lexer": "ipython3",
   "version": "3.9.4"
  }
 },
 "nbformat": 4,
 "nbformat_minor": 5
}
