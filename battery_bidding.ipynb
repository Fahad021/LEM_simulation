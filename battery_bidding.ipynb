{
 "cells": [
  {
   "cell_type": "markdown",
   "id": "f7527467",
   "metadata": {},
   "source": [
    "# Battery bidding functions"
   ]
  },
  {
   "cell_type": "markdown",
   "id": "a897b409",
   "metadata": {},
   "source": [
    "## To do"
   ]
  },
  {
   "cell_type": "markdown",
   "id": "7a3c1b54",
   "metadata": {},
   "source": [
    "This code represents a battery which is participating in a real-time market (every 5min). At the beginning of each market interval, the battery places a buy bid (maximum price at which it is willing to buy) and a supply bid (minimum price at which it is willing to sell). Then, the market reveals the true real-time price. If the price is lower than the buy bid, the battery charges. If the price is higher than the sell price, the battery discharges. \n",
    "\n",
    "The objective of this task is to write bidding functions which maximize the battery's profit or some other objective.\n",
    "\n",
    "Please go through the following steps:\n",
    "\n",
    "Week 3:\n",
    "* Go through the code and try to understand each part. Currently, a very simple bidding function (simple_bid()) is implemented. Run the code from the top.\n",
    "* Write the function calculate_battery_profit() which calculates the profits from operating the battery.\n",
    "* Write the function visualize_battery_dispatch() which visualizes when the battery dispatches as well as the market price.\n",
    "* Test your code for a week-long simulation period.\n",
    "\n",
    "Week 4:\n",
    "* Think of other evaluations and visualizations of the battery behavior and implement them.\n",
    "* Make a strategy of how to implement one of the following new bidding functions and discuss them with Marie-Louise and Lynne:\n",
    "    - bid_costminizing()\n",
    "    - bid_optimal_autarky()\n",
    "    - bid_optimal_RL()\n",
    "* Implement your bidding function and test and visualize it.\n",
    "\n",
    "Week 5:\n",
    "* Repeat the same for the other bidding functions.\n",
    "\n",
    "Once you have finalized your code, we will implement your code in GridLAB-D and test them in a more complex distribution system. For the next steps, have a look at the GoogleDoc with your workplan-\n",
    "\n",
    "When you have questions, don't hesitate to contact Anna, Lynne, or Marie-Louise!"
   ]
  },
  {
   "cell_type": "markdown",
   "id": "abd9b2f2",
   "metadata": {},
   "source": [
    "## Modules"
   ]
  },
  {
   "cell_type": "code",
   "execution_count": 1,
   "id": "45666bc0",
   "metadata": {},
   "outputs": [],
   "source": [
    "import pandas as pd\n",
    "pd.options.mode.chained_assignment = None\n",
    "pd.set_option('display.max_rows', 50)\n",
    "import cvxpy\n",
    "from matplotlib.dates import drange\n",
    "import random\n",
    "import numpy as np\n",
    "import datetime\n",
    "import matplotlib.pyplot as plt\n",
    "import matplotlib.dates as mdates\n"
   ]
  },
  {
   "cell_type": "markdown",
   "id": "6e5bf0d5",
   "metadata": {},
   "source": [
    "## Define bidding functions"
   ]
  },
  {
   "cell_type": "code",
   "execution_count": 2,
   "id": "bf8f271d",
   "metadata": {},
   "outputs": [],
   "source": [
    "#df_battery_state\n",
    "# change order possibly?"
   ]
  },
  {
   "cell_type": "code",
   "execution_count": 3,
   "id": "198161cd",
   "metadata": {},
   "outputs": [],
   "source": [
    "def bid_simple(dt_sim_time,df_battery_state,df_WS,df_prices):\n",
    "    #derive quantity and price bid of battery\n",
    "    prec = 3 # rounding\n",
    "    \n",
    "    # Price bid\n",
    "    # mean_p is the mean price starting from dt_sim_time to 4 hours in the future\n",
    "    mean_p = df_WS.loc[dt_sim_time:(dt_sim_time+datetime.timedelta(hours = 24))]['DA'].mean()\n",
    "    df_battery_state['p_sell'] = mean_p / df_battery_state['efficiency']\n",
    "    df_battery_state['p_buy'] = mean_p * df_battery_state['efficiency']\n",
    "    \n",
    "    # Quantity depends on SOC and u\n",
    "    safety_fac = 0.99\n",
    "    df_battery_state['residual_s'] = round((3600./interval)*(df_battery_state['SOC_t'] - df_battery_state['SOC_min']),prec) #Recalculate to kW\n",
    "    #print(df_battery_state[['residual_s','u_max']])\n",
    "    #comparing what the battery can discharge in power and in energy, choose the one that is more restrictive\n",
    "    df_battery_state['q_sell'] = df_battery_state[['residual_s','u_max']].min(axis=1) #in kW / only if fully dischargeable\n",
    "    #comment out and check later \n",
    "    df_battery_state['q_sell'].loc[df_battery_state['q_sell'] < 0.1] = 0.0\n",
    "    #filtering out what is less than 0.1, because of python\n",
    "    #comparing what the battery can charge in power and in energy, choose the one that is more restrictive\n",
    "    #do not want to discharge until it fully discharged\n",
    "    #double check minimum soc\n",
    "    #min state of charge is 1 kwh\n",
    "    df_battery_state['residual_b'] = round((3600./interval)*(safety_fac*df_battery_state['SOC_max'] - df_battery_state['SOC_t']),prec) #Recalculate to kW\n",
    "    #print(df_battery_state[['residual_b','u_max']])\n",
    "    df_battery_state['q_buy'] = df_battery_state[['residual_b','u_max']].min(axis=1) #in kW\n",
    "    df_battery_state['q_buy'].loc[df_battery_state['q_buy'] < 0.1] = 0.0\n",
    "    \n",
    "    #print(df_battery_state)\n",
    "    return df_battery_state"
   ]
  },
  {
   "cell_type": "code",
   "execution_count": 4,
   "id": "f8c0b80c",
   "metadata": {},
   "outputs": [],
   "source": [
    "def bid_costminizing(df_battery_state): # Adjust input\n",
    "    time_horizon = 4*3600/interval # optimization horizon\n",
    "    # Determine the optimal dispatch schedule of the battery over the optimization horizon,\n",
    "    #    given day-ahead (DA) prices from df_WS. Use the package cvxpy.\n",
    "    # Determine profits from (t+1) on if battery had charged/discharged/not done anything in t\n",
    "    # The profit/cost from charging/doing nothing/discharging in t and the future value in (t+1) \n",
    "    #    if the value of the action charging/doing nothing/discharging in t\n",
    "    #    --> This principle is called the Bellman principle\n",
    "    # Which prices make the battery operator equivalent between:\n",
    "    # - charging or doing nothing? --> This is the maximum price at which the battery operator\n",
    "    #   is willing to buy\n",
    "    # - discharging or doing nothing? --> This is the minimum price at which the battery operator\n",
    "    #   is willing to sell\n",
    "    return df_battery_state"
   ]
  },
  {
   "cell_type": "code",
   "execution_count": 5,
   "id": "c8bb4349",
   "metadata": {},
   "outputs": [],
   "source": [
    "def bid_optimal_autarky(df_battery_state):\n",
    "    # Design and implement a bidding strategy of an agent who values a high state-of-charge\n",
    "    # but is willing to go below the minimum SOC if the agent could achieve substantial profits\n",
    "    return df_battery_state"
   ]
  },
  {
   "cell_type": "code",
   "execution_count": 6,
   "id": "c4fdc6a6",
   "metadata": {},
   "outputs": [],
   "source": [
    "def bid_optimal_RL(df_battery_state):\n",
    "    # Maximize battery profit using Reinforcement Learning\n",
    "    # Use the following RL algorithm: https://dl.acm.org/doi/10.1145/3208903.3208907 (Section 4)\n",
    "    return df_battery_state"
   ]
  },
  {
   "cell_type": "markdown",
   "id": "75948f7f",
   "metadata": {},
   "source": [
    "## Evaluation functions"
   ]
  },
  {
   "cell_type": "code",
   "execution_count": 7,
   "id": "94d859cd",
   "metadata": {},
   "outputs": [],
   "source": [
    "def calculate_battery_profit(df_awarded_bids, df_prices):\n",
    "    # Calculate profit from selling and buying energy\n",
    "    # prices are in USD/MWh and u_max = 1 kWh\n",
    "    # Multiply by 1/12 because market intervals are 5 minutes\n",
    "    \n",
    "    profit=0\n",
    "    expenses=0\n",
    "    income=0\n",
    "    for index, row in df_awarded_bids.iterrows():\n",
    "        if row['S_D']=='S':\n",
    "            income = income + (df_prices.loc[row['timestamp'], 'clearing_price'])*(1/12)*(1/1000)\n",
    "        elif row['S_D']=='D':\n",
    "            expenses = expenses + (df_prices.loc[row['timestamp'], 'clearing_price'])*(1/12)*(1/1000)\n",
    "    profit=income-expenses\n",
    "    return profit"
   ]
  },
  {
   "cell_type": "code",
   "execution_count": 8,
   "id": "f1667b33",
   "metadata": {},
   "outputs": [],
   "source": [
    "# this one scales better but is less readable \n",
    "def calculate_battery_profit(awarded_bids, prices):\n",
    "    '''\n",
    "    This function calculates ... \n",
    "    \n",
    "    Inputs:\n",
    "    - awarded_bids: a pd dataframe containing ...\n",
    "    - prices: a pd dataframe containing ...\n",
    "    \n",
    "    Output: \n",
    "    - profit: ... \n",
    "    \n",
    "    '''\n",
    "    income_by_time = prices.loc[awarded_bids[awarded_bids['S_D']=='S']['timestamp'], \n",
    "                               ['clearing_price', 'clearing_quantity']].prod(axis=1)\n",
    "    income = sum(income_by_time) / (12 * 1000)\n",
    "    expense_by_time = prices.loc[awarded_bids[awarded_bids['S_D']=='D']['timestamp'], \n",
    "                               ['clearing_price', 'clearing_quantity']].prod(axis=1)\n",
    "    expense = sum(expense_by_time) / (12 * 1000)\n",
    "    profit = income - expense\n",
    "    return profit"
   ]
  },
  {
   "cell_type": "code",
   "execution_count": 9,
   "id": "17101184",
   "metadata": {},
   "outputs": [],
   "source": [
    "def visualize_battery_dispatch2(ys):\n",
    "    fig, ax = plt.subplots()\n",
    "\n",
    "    locator = mdates.AutoDateLocator(minticks=3, maxticks=7)\n",
    "    formatter = mdates.ConciseDateFormatter(locator)\n",
    "    ax.xaxis.set_major_locator(locator)\n",
    "    ax.xaxis.set_major_formatter(formatter)\n",
    "    ax.plot(market_intervals, ys)\n",
    "    plt.show()"
   ]
  },
  {
   "cell_type": "code",
   "execution_count": 10,
   "id": "eb0fc53e",
   "metadata": {},
   "outputs": [],
   "source": [
    "def visualize_battery_dispatch3(ys2):\n",
    "    ys2 = np.array(ys2)\n",
    "    ys2[:, 0] = (ys2[:, -1] == 1) * ys2[:, 0]\n",
    "    ys2[:, 1] = (ys2[:, -1] == -1) * ys2[:, 1]\n",
    "    \n",
    "    fig, ax = plt.subplots()\n",
    "\n",
    "    locator = mdates.AutoDateLocator(minticks=3, maxticks=7)\n",
    "    formatter = mdates.ConciseDateFormatter(locator)\n",
    "    ax.xaxis.set_major_locator(locator)\n",
    "    ax.xaxis.set_major_formatter(formatter)\n",
    "    ax.plot(market_intervals, np.array(ys2)[:, 0], label='q_buy')\n",
    "    ax.plot(market_intervals, np.array(ys2)[:, 1], label='q_sell')\n",
    "    plt.legend()"
   ]
  },
  {
   "cell_type": "markdown",
   "id": "d57983a3",
   "metadata": {},
   "source": [
    "## Other functions"
   ]
  },
  {
   "cell_type": "code",
   "execution_count": 11,
   "id": "519da6a9",
   "metadata": {},
   "outputs": [],
   "source": [
    "# Update battery function: updates the batteries' state of charge\n",
    "# (Same as in market_simulation code)\n",
    "def update_battery(df_battery_state):\n",
    "    #-1: discharging, 0 no activity, 1 charging\n",
    "    #history is saved by battery recorder (P_out)\n",
    "    df_battery_state['active_t-1'] = df_battery_state['active_t']\n",
    "    df_battery_state['active_t'] = 0 # random.choice([-1, 0, 1])\n",
    "    df_battery_state['SOC_t'] = df_battery_state['SOC_t']*df_battery_state['efficiency']\n",
    "    # fixed from before\n",
    "    df_battery_state['SOC_t'].loc[df_battery_state['active_t-1'] == -1] -= interval/3600*df_battery_state['q_sell'].loc[df_battery_state['active_t-1'] == -1]\n",
    "    df_battery_state['SOC_t'].loc[df_battery_state['active_t-1'] == 1] += interval/3600*df_battery_state['q_buy'].loc[df_battery_state['active_t-1'] == 1]\n",
    "    return df_battery_state"
   ]
  },
  {
   "cell_type": "code",
   "execution_count": 12,
   "id": "fbb75f43",
   "metadata": {},
   "outputs": [],
   "source": [
    "# Write bids to result tables\n",
    "def submit_bids_battery(dt_sim_time,retail,df_bids,df_supply_bids,df_buy_bids):\n",
    "    for ind in df_bids.index:\n",
    "        if df_bids['q_sell'].loc[ind] > 0.0:\n",
    "            #retail.sell(df_bids['q_sell'].loc[ind],df_bids['p_sell'].loc[ind],gen_name=ind)\n",
    "            df_supply_bids = df_supply_bids.append(pd.DataFrame(columns=df_supply_bids.columns,data=[[dt_sim_time,ind,float(df_bids['p_sell'].loc[ind]),float(df_bids['q_sell'].loc[ind])]]),ignore_index=True)\n",
    "        if df_bids['q_buy'].loc[ind] > 0.0:\n",
    "            #retail.buy(df_bids['q_buy'].loc[ind],df_bids['p_buy'].loc[ind],active=df_bids['active_t-1'].loc[ind],appliance_name=ind)\n",
    "            df_buy_bids = df_buy_bids.append(pd.DataFrame(columns=df_buy_bids.columns,data=[[dt_sim_time,ind,float(df_bids['p_buy'].loc[ind]),float(df_bids['q_buy'].loc[ind])]]),ignore_index=True)\n",
    "    df_bids['active_t-1'] = 0\n",
    "    return retail,df_supply_bids,df_buy_bids"
   ]
  },
  {
   "cell_type": "markdown",
   "id": "53e11c8c",
   "metadata": {},
   "source": [
    "`(df_bids_battery['p_buy'] >= Pd) & (df_bids_battery['SOC_t'] >= df_bids_battery['SOC_max'])`\n",
    "\n",
    "- Return False (0) only when we can buy\n",
    "- Return True (1) when either of these conditions are violated"
   ]
  },
  {
   "cell_type": "code",
   "execution_count": 13,
   "id": "86e1fa09",
   "metadata": {},
   "outputs": [],
   "source": [
    "# Determines if battery should be dispatched and how\n",
    "def set_battery_by_price(dt_sim_time,df_bids_battery,Pd, df_awarded_bids):\n",
    "    #Determine activity\n",
    "    df_bids_battery.at[:,'active_t'] = 0\n",
    "    df_bids_battery.at[(df_bids_battery['p_buy'] >= Pd) & (df_bids_battery['SOC_t'] < df_bids_battery['SOC_max']),'active_t'] = 1\n",
    "    df_bids_battery.at[(df_bids_battery['p_sell'] <= Pd) & (df_bids_battery['SOC_t'] > 0.0),'active_t'] = -1\n",
    "    #print(df_bids_battery)\n",
    "    # Save to awarded bids\n",
    "    for battery in df_bids_battery.index:\n",
    "        batt_number = battery\n",
    "        SOC = df_bids_battery['SOC_t'].loc[battery] #this is SOC at the beginning of the period t\n",
    "        active = df_bids_battery['active_t'].loc[battery] #this is activity in t\n",
    "        if active == 1:\n",
    "            q_bid = df_bids_battery['q_buy'].loc[battery]\n",
    "            p_bid = df_bids_battery['p_buy'].loc[battery]\n",
    "            df_awarded_bids = df_awarded_bids.append(pd.DataFrame(columns=df_awarded_bids.columns,data=[[dt_sim_time,battery,float(p_bid),float(q_bid),'D']]),ignore_index=True)\n",
    "        elif active == -1:\n",
    "            q_bid = df_bids_battery['q_sell'].loc[battery]\n",
    "            p_bid = df_bids_battery['p_sell'].loc[battery]\n",
    "            df_awarded_bids = df_awarded_bids.append(pd.DataFrame(columns=df_awarded_bids.columns,data=[[dt_sim_time,battery,float(p_bid),float(q_bid),'S']]),ignore_index=True)\n",
    "    return df_bids_battery,df_awarded_bids"
   ]
  },
  {
   "cell_type": "markdown",
   "id": "6e206300",
   "metadata": {},
   "source": [
    "## Initialize objects and data"
   ]
  },
  {
   "cell_type": "code",
   "execution_count": 14,
   "id": "ff23eb3f",
   "metadata": {},
   "outputs": [],
   "source": [
    "# Initialize battery 1\n",
    "cols_battery = ['battery_name','house_name','SOC_min','SOC_max','i_max','u_max','efficiency','SOC_t','active_t-1','active_t','threshold_sell','threshold_buy','q_sell','p_sell','q_buy','p_buy']\n",
    "#values = [['batt_1','house_1',1.,5.,1.,1.,0.99,2.5,0,0,0.0,0.0,0.0,0.0,0.0,0.0]]\n",
    "values = [['batt_1','house_1',1.,5.,1.,1.,1,2.5,0,0,0.0,0.0,0.0,0.0,0.0,0.0]]\n",
    "#set efficiency factor to 1 and rerun market \n",
    "df_battery_state = pd.DataFrame(columns=cols_battery,data=values)"
   ]
  },
  {
   "cell_type": "code",
   "execution_count": 15,
   "id": "40669c05",
   "metadata": {},
   "outputs": [
    {
     "data": {
      "text/html": [
       "<div>\n",
       "<style scoped>\n",
       "    .dataframe tbody tr th:only-of-type {\n",
       "        vertical-align: middle;\n",
       "    }\n",
       "\n",
       "    .dataframe tbody tr th {\n",
       "        vertical-align: top;\n",
       "    }\n",
       "\n",
       "    .dataframe thead th {\n",
       "        text-align: right;\n",
       "    }\n",
       "</style>\n",
       "<table border=\"1\" class=\"dataframe\">\n",
       "  <thead>\n",
       "    <tr style=\"text-align: right;\">\n",
       "      <th></th>\n",
       "      <th>DA</th>\n",
       "      <th>RT</th>\n",
       "    </tr>\n",
       "  </thead>\n",
       "  <tbody>\n",
       "    <tr>\n",
       "      <th>2016-01-01 00:00:00</th>\n",
       "      <td>18.22</td>\n",
       "      <td>15.48</td>\n",
       "    </tr>\n",
       "    <tr>\n",
       "      <th>2016-01-01 00:05:00</th>\n",
       "      <td>18.22</td>\n",
       "      <td>15.48</td>\n",
       "    </tr>\n",
       "    <tr>\n",
       "      <th>2016-01-01 00:10:00</th>\n",
       "      <td>18.22</td>\n",
       "      <td>15.48</td>\n",
       "    </tr>\n",
       "    <tr>\n",
       "      <th>2016-01-01 00:15:00</th>\n",
       "      <td>18.22</td>\n",
       "      <td>15.33</td>\n",
       "    </tr>\n",
       "    <tr>\n",
       "      <th>2016-01-01 00:20:00</th>\n",
       "      <td>18.22</td>\n",
       "      <td>15.33</td>\n",
       "    </tr>\n",
       "  </tbody>\n",
       "</table>\n",
       "</div>"
      ],
      "text/plain": [
       "                        DA     RT\n",
       "2016-01-01 00:00:00  18.22  15.48\n",
       "2016-01-01 00:05:00  18.22  15.48\n",
       "2016-01-01 00:10:00  18.22  15.48\n",
       "2016-01-01 00:15:00  18.22  15.33\n",
       "2016-01-01 00:20:00  18.22  15.33"
      ]
     },
     "execution_count": 15,
     "metadata": {},
     "output_type": "execute_result"
    }
   ],
   "source": [
    "# WS costs\n",
    "df_WS = pd.read_csv('glm_generation_Austin/Ercot_LZ_SOUTH.csv',parse_dates=True,index_col=[0]) # For year 2016\n",
    "df_WS.head()"
   ]
  },
  {
   "cell_type": "code",
   "execution_count": 16,
   "id": "dc42b702",
   "metadata": {},
   "outputs": [
    {
     "data": {
      "text/plain": [
       "DatetimeIndex(['2016-07-01 00:00:00', '2016-07-01 00:05:00',\n",
       "               '2016-07-01 00:10:00', '2016-07-01 00:15:00',\n",
       "               '2016-07-01 00:20:00', '2016-07-01 00:25:00',\n",
       "               '2016-07-01 00:30:00', '2016-07-01 00:35:00',\n",
       "               '2016-07-01 00:40:00', '2016-07-01 00:45:00',\n",
       "               ...\n",
       "               '2016-07-07 00:15:00', '2016-07-07 00:20:00',\n",
       "               '2016-07-07 00:25:00', '2016-07-07 00:30:00',\n",
       "               '2016-07-07 00:35:00', '2016-07-07 00:40:00',\n",
       "               '2016-07-07 00:45:00', '2016-07-07 00:50:00',\n",
       "               '2016-07-07 00:55:00', '2016-07-07 01:00:00'],\n",
       "              dtype='datetime64[ns]', length=1741, freq='5T')"
      ]
     },
     "execution_count": 16,
     "metadata": {},
     "output_type": "execute_result"
    }
   ],
   "source": [
    "# Initialize market parameters\n",
    "start = datetime.datetime( 2016, 7, 1)\n",
    "end = datetime.datetime( 2016, 7, 7, 1, 0)\n",
    "interval = 300 # interval of market operation\n",
    "market_intervals = pd.date_range(start,end,freq=str(int(interval/60))+'min')\n",
    "market_intervals #the first hour in 5 minute increments"
   ]
  },
  {
   "cell_type": "markdown",
   "id": "69848e24",
   "metadata": {},
   "source": [
    "## Run market"
   ]
  },
  {
   "cell_type": "code",
   "execution_count": null,
   "id": "9333d838",
   "metadata": {
    "scrolled": false
   },
   "outputs": [],
   "source": [
    "# Set up df to save results\n",
    "# Setting up empty data frames\n",
    "#Test cases - unit test\n",
    "#to make this a function, pass in these dataframes + market intervals + \n",
    "df_prices = pd.DataFrame(columns=['clearing_price','clearing_quantity','unresponsive_loads'])\n",
    "df_buy_bids = pd.DataFrame(columns=['timestamp','appliance_name','bid_price','bid_quantity'])\n",
    "df_supply_bids = pd.DataFrame(columns=['timestamp','appliance_name','bid_price','bid_quantity'])\n",
    "df_awarded_bids = pd.DataFrame(columns=['timestamp','appliance_name','bid_price','bid_quantity','S_D'])\n",
    "df_store = pd.DataFrame(columns=['timestamp', 'RT', 'SOC_t', 'q_buy', 'q_sell', 'active_t'])\n",
    "\n",
    "\n",
    "def run_market(df_prices, df_buy_bids, df_supply_bids, df_awarded_bids, df_store, market_intervals, df_battery_state, df_WS):\n",
    "\n",
    "    for dt_sim_time in market_intervals:\n",
    "        #print(dt_sim_time)\n",
    "        # Update physical state of battery\n",
    "        df_battery_state = update_battery(df_battery_state)\n",
    "        #records current state of charge\n",
    "\n",
    "        # Setup market\n",
    "        retail = None # this is a placeholder\n",
    "\n",
    "        # Bid : THIS IS WHERE YOU SHOULD IMPLEMENT AND TEST BIDDING FUNCTIONS\n",
    "        df_battery_state = bid_simple(dt_sim_time,df_battery_state,df_WS,df_prices)\n",
    "        #bid_costminizing(dt_sim_time,df_battery_state,df_WS,df_prices)\n",
    "        #bid_optimal_autarky(dt_sim_time,df_battery_state,df_WS,df_prices)\n",
    "        retail,df_supply_bids,df_buy_bids = submit_bids_battery(dt_sim_time,retail,df_battery_state,df_supply_bids,df_buy_bids)\n",
    "        # Clear market and save price\n",
    "        Pd = df_WS['RT'].loc[dt_sim_time:dt_sim_time].iloc[-1]\n",
    "        #-1 means we use the last price\n",
    "        #Pd is clearing price\n",
    "        Qd = max(df_battery_state['q_sell'].loc[df_battery_state['p_sell'] <= Pd].sum(),df_battery_state['q_buy'].loc[df_battery_state['p_buy'] >= Pd].sum())\n",
    "        #Qd is clearing quantity\n",
    "        unresp_load = 0.0\n",
    "        df_temp = pd.DataFrame(index=[dt_sim_time],columns=['clearing_price','clearing_quantity','unresponsive_loads'],data=[[Pd,Qd,unresp_load]])\n",
    "        df_prices = df_prices.append(df_temp)\n",
    "        # Dispatch battery\n",
    "        # Calls the function in order to append and fill the empty data frames\n",
    "        df_bids_battery, df_awarded_bids = set_battery_by_price(dt_sim_time,df_battery_state, Pd, df_awarded_bids)\n",
    "\n",
    "        df_temp2 = pd.DataFrame(columns=['timestamp', 'RT', 'SOC_t', 'q_buy', 'q_sell', 'active_t'], data=[[dt_sim_time, Pd, df_battery_state['SOC_t'].values[0], *df_battery_state[['q_buy', 'q_sell', 'active_t']].values[0]]])\n",
    "        df_store = df_store.append(df_temp2) \n",
    "        #set_battery_by_price\n",
    "    df_store = df_store.set_index('timestamp')\n",
    "\n",
    "    #check df_store\n",
    "    df_store['q_buy'] = (df_store.active_t==1)*df_store.q_buy\n",
    "    df_store['q_sell'] = (df_store.active_t==-1)*df_store.q_sell\n",
    "    df_store['q_transaction'] =  df_store['q_buy'] - df_store['q_sell']\n",
    "    df_store['q_transaction'] = df_store['q_transaction']*(-1)\n",
    "    \n",
    "    return df_store, df_prices, df_bids_battery, df_awarded_bids\n",
    "    \n",
    "df_store, df_prices, df_bids_battery, df_awarded_bids = run_market(df_prices, df_buy_bids, df_supply_bids, df_awarded_bids, df_store, market_intervals, df_battery_state, df_WS)\n"
   ]
  },
  {
   "cell_type": "code",
   "execution_count": null,
   "id": "16a089e6",
   "metadata": {
    "scrolled": true
   },
   "outputs": [],
   "source": [
    "df_awarded_bids"
   ]
  },
  {
   "cell_type": "code",
   "execution_count": null,
   "id": "0a4634a0",
   "metadata": {},
   "outputs": [],
   "source": [
    "len(df_store.active_t==1)\n",
    "len(df_store)\n",
    "#check later is equal length"
   ]
  },
  {
   "cell_type": "markdown",
   "id": "c9a8c032",
   "metadata": {},
   "source": [
    "## Visualize market results"
   ]
  },
  {
   "cell_type": "markdown",
   "id": "b2f20c6d",
   "metadata": {},
   "source": [
    "## Calculate battery profit"
   ]
  },
  {
   "cell_type": "code",
   "execution_count": null,
   "id": "4ab725d9",
   "metadata": {},
   "outputs": [],
   "source": [
    "df_store"
   ]
  },
  {
   "cell_type": "code",
   "execution_count": null,
   "id": "242d7e96",
   "metadata": {
    "scrolled": true
   },
   "outputs": [],
   "source": [
    "df_WS"
   ]
  },
  {
   "cell_type": "code",
   "execution_count": null,
   "id": "59284f0d",
   "metadata": {
    "scrolled": true
   },
   "outputs": [],
   "source": [
    "# In USD\n",
    "calculate_battery_profit(df_awarded_bids, df_prices)\n"
   ]
  },
  {
   "cell_type": "code",
   "execution_count": null,
   "id": "9bb7de4b",
   "metadata": {},
   "outputs": [],
   "source": [
    "df_prices"
   ]
  },
  {
   "cell_type": "code",
   "execution_count": null,
   "id": "04f87324",
   "metadata": {},
   "outputs": [],
   "source": [
    "start, end"
   ]
  },
  {
   "cell_type": "code",
   "execution_count": null,
   "id": "e054e386",
   "metadata": {},
   "outputs": [],
   "source": [
    "df_store.RT"
   ]
  },
  {
   "cell_type": "code",
   "execution_count": null,
   "id": "9a5a6d2b",
   "metadata": {},
   "outputs": [],
   "source": [
    "df_store.SOC_t"
   ]
  },
  {
   "cell_type": "code",
   "execution_count": null,
   "id": "dc164e0d",
   "metadata": {},
   "outputs": [],
   "source": [
    "df_store.q_transaction"
   ]
  },
  {
   "cell_type": "code",
   "execution_count": null,
   "id": "1d0a2382",
   "metadata": {},
   "outputs": [],
   "source": [
    "def visualize_battery_dispatch(data):\n",
    "    # Visualize battery dispatch over time as well as the market price\n",
    "    fig = plt.figure(figsize=(9,3),dpi=150) \n",
    "    ax = fig.add_subplot(111)\n",
    "    \n",
    "    plot1 = ax.plot(data.RT, color='xkcd:sky blue', label='RT')\n",
    "    ax.set_xlabel('Time')\n",
    "    ax.set_ylabel('Real-time price (USD/MWh)')\n",
    "    ax.set_xlim(xmin=start,xmax=end+pd.Timedelta(days=1))\n",
    "    ax.set_xticklabels(ax.get_xticklabels(), fontsize=7)\n",
    "    ax.set_ylim(0.0,150)\n",
    "#     ax2 = fig.add_subplot(211)\n",
    "\n",
    "    ax2 = ax.twinx()\n",
    "    plot2 = ax2.plot(data.SOC_t, color='orange', label='SOC')\n",
    "    ax2.set_ylabel('State of Charge')\n",
    "    ax2.set_ylim(-4,10)\n",
    "    \n",
    "    \n",
    "#     ax3 = fig.add_subplot(311)\n",
    "    ax3 = ax.twinx()\n",
    "    rspine = ax3.spines['right']\n",
    "    rspine.set_position(('axes', 1.15))\n",
    "    ax3.set_frame_on(True)\n",
    "    ax3.patch.set_visible(False)\n",
    "    fig.subplots_adjust(right=0.7)\n",
    "\n",
    "    plot3 = ax3.plot(data.q_transaction, color='red', label='load')\n",
    "    ax3.set_ylabel('Load Dispatched')\n",
    "    ax3.set_ylim(-8,2)\n",
    "\n",
    "#     plot3 = ax3.plot(np.array(ys2)[:, 0], label='q_buy', color='red')\n",
    "#     plot4 = ax3.plot(np.array(ys2)[:, 1], label='q_sell', color='green')\n",
    "    \n",
    "    plots = plot1 + plot2 + plot3\n",
    "    labs = [l.get_label() for l in plots]\n",
    "    L = ax.legend(plots, labs, bbox_to_anchor=(0.5, -0.4), loc='lower center', ncol=len(labs))\n",
    "#     ppt.savefig(directory+'/week_'+str(start)+'.pdf', bbox_inches='tight')\n",
    "#     ppt.savefig(directory+'/week_'+str(start)+'.png', bbox_inches='tight')\n",
    "\n",
    "\n",
    "    #     locator = mdates.AutoDateLocator(minticks=3, maxticks=7)\n",
    "#     formatter = mdates.ConciseDateFormatter(locator)\n",
    "#     ax.xaxis.set_major_locator(locator)\n",
    "#     ax.xaxis.set_major_formatter(formatter)\n",
    "#     x=df.index\n",
    "#     y=df.RT\n",
    "#     ax.plot(x, y)\n",
    "#     plt.show()\n",
    "\n",
    "        #x = [datetime.datetime.strptime(elem, '%Y-%b-%d %H:%M:%S') for elem in x]\n",
    "#     return"
   ]
  },
  {
   "cell_type": "code",
   "execution_count": null,
   "id": "e7faed6c",
   "metadata": {
    "scrolled": false
   },
   "outputs": [],
   "source": [
    "visualize_battery_dispatch(df_store)\n",
    "# rename functions\n",
    "# add units for load dispatched\n",
    "# change up the overlapping graphs\n",
    "#test the bid simple- test a different average"
   ]
  }
 ],
 "metadata": {
  "kernelspec": {
   "display_name": "Python 3",
   "language": "python",
   "name": "python3"
  },
  "language_info": {
   "codemirror_mode": {
    "name": "ipython",
    "version": 3
   },
   "file_extension": ".py",
   "mimetype": "text/x-python",
   "name": "python",
   "nbconvert_exporter": "python",
   "pygments_lexer": "ipython3",
   "version": "3.8.8"
  }
 },
 "nbformat": 4,
 "nbformat_minor": 5
}
