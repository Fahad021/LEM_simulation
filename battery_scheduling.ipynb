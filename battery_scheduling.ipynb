{
 "cells": [
  {
   "cell_type": "code",
   "execution_count": 1,
   "id": "90435de3",
   "metadata": {},
   "outputs": [],
   "source": [
    "import cvxpy as cp\n",
    "import numpy as np\n",
    "import pandas as pd\n",
    "import random as rd\n",
    "import datetime\n",
    "import matplotlib.pyplot as plt\n",
    "import matplotlib.dates as mdates"
   ]
  },
  {
   "cell_type": "code",
   "execution_count": 2,
   "id": "9f16a995",
   "metadata": {},
   "outputs": [
    {
     "data": {
      "text/html": [
       "<div>\n",
       "<style scoped>\n",
       "    .dataframe tbody tr th:only-of-type {\n",
       "        vertical-align: middle;\n",
       "    }\n",
       "\n",
       "    .dataframe tbody tr th {\n",
       "        vertical-align: top;\n",
       "    }\n",
       "\n",
       "    .dataframe thead th {\n",
       "        text-align: right;\n",
       "    }\n",
       "</style>\n",
       "<table border=\"1\" class=\"dataframe\">\n",
       "  <thead>\n",
       "    <tr style=\"text-align: right;\">\n",
       "      <th></th>\n",
       "      <th>DA</th>\n",
       "      <th>RT</th>\n",
       "    </tr>\n",
       "  </thead>\n",
       "  <tbody>\n",
       "    <tr>\n",
       "      <th>2016-01-01 00:00:00</th>\n",
       "      <td>18.22</td>\n",
       "      <td>15.48</td>\n",
       "    </tr>\n",
       "    <tr>\n",
       "      <th>2016-01-01 00:05:00</th>\n",
       "      <td>18.22</td>\n",
       "      <td>15.48</td>\n",
       "    </tr>\n",
       "    <tr>\n",
       "      <th>2016-01-01 00:10:00</th>\n",
       "      <td>18.22</td>\n",
       "      <td>15.48</td>\n",
       "    </tr>\n",
       "    <tr>\n",
       "      <th>2016-01-01 00:15:00</th>\n",
       "      <td>18.22</td>\n",
       "      <td>15.33</td>\n",
       "    </tr>\n",
       "    <tr>\n",
       "      <th>2016-01-01 00:20:00</th>\n",
       "      <td>18.22</td>\n",
       "      <td>15.33</td>\n",
       "    </tr>\n",
       "  </tbody>\n",
       "</table>\n",
       "</div>"
      ],
      "text/plain": [
       "                        DA     RT\n",
       "2016-01-01 00:00:00  18.22  15.48\n",
       "2016-01-01 00:05:00  18.22  15.48\n",
       "2016-01-01 00:10:00  18.22  15.48\n",
       "2016-01-01 00:15:00  18.22  15.33\n",
       "2016-01-01 00:20:00  18.22  15.33"
      ]
     },
     "execution_count": 2,
     "metadata": {},
     "output_type": "execute_result"
    }
   ],
   "source": [
    "df_WS = pd.read_csv('glm_generation_Austin/Ercot_LZ_SOUTH.csv',parse_dates=True,index_col=[0]) # For year 2016\n",
    "df_WS.head()"
   ]
  },
  {
   "cell_type": "code",
   "execution_count": 3,
   "id": "60efa721",
   "metadata": {},
   "outputs": [
    {
     "name": "stdout",
     "output_type": "stream",
     "text": [
      "1741\n"
     ]
    }
   ],
   "source": [
    "start = datetime.datetime( 2016, 7, 1)\n",
    "end = datetime.datetime( 2016, 7, 7, 1, 0)\n",
    "interval = 300 # interval of market operation\n",
    "market_intervals = pd.date_range(start,end,freq=str(int(interval/60))+'min')\n",
    "market_intervals #the first hour in 5 minute increments\n",
    "index = len(market_intervals)\n",
    "print(len(market_intervals))"
   ]
  },
  {
   "cell_type": "code",
   "execution_count": 4,
   "id": "a32518c3",
   "metadata": {},
   "outputs": [
    {
     "name": "stdout",
     "output_type": "stream",
     "text": [
      "2016-01-01 00:00:00    15.48\n",
      "2016-01-01 00:05:00    15.48\n",
      "2016-01-01 00:10:00    15.48\n",
      "2016-01-01 00:15:00    15.33\n",
      "2016-01-01 00:20:00    15.33\n",
      "                       ...  \n",
      "2016-01-06 22:15:00    19.68\n",
      "2016-01-06 22:20:00    19.68\n",
      "2016-01-06 22:25:00    19.68\n",
      "2016-01-06 22:30:00    19.13\n",
      "2016-01-06 22:35:00    19.13\n",
      "Name: RT, Length: 1741, dtype: float64\n"
     ]
    },
    {
     "data": {
      "text/plain": [
       "[0.0,\n",
       " 0.0,\n",
       " 0.0,\n",
       " 0.0,\n",
       " 0.0,\n",
       " 0.0,\n",
       " 0.0,\n",
       " 0.0,\n",
       " 0.0,\n",
       " 0.0,\n",
       " 0.0,\n",
       " 0.0,\n",
       " 0.0,\n",
       " 0.0,\n",
       " 0.0,\n",
       " 0.0,\n",
       " 0.0,\n",
       " 0.0,\n",
       " 0.0,\n",
       " 0.0,\n",
       " 0.0,\n",
       " 0.0,\n",
       " 0.0,\n",
       " 0.0,\n",
       " 0.0,\n",
       " 0.0,\n",
       " 0.0,\n",
       " 0.0,\n",
       " 0.0,\n",
       " 0.0,\n",
       " 0.0,\n",
       " 0.0,\n",
       " 0.0,\n",
       " 0.0,\n",
       " 0.0,\n",
       " 0.0,\n",
       " 1.0,\n",
       " 1.0,\n",
       " 1.0,\n",
       " 1.0,\n",
       " 1.0,\n",
       " 1.0,\n",
       " 1.0,\n",
       " 1.0,\n",
       " 1.0,\n",
       " 1.0,\n",
       " 1.0,\n",
       " 1.0,\n",
       " 1.0,\n",
       " 1.0,\n",
       " 1.0,\n",
       " 1.0,\n",
       " 1.0,\n",
       " 1.0,\n",
       " 1.0,\n",
       " 1.0,\n",
       " 1.0,\n",
       " 1.0,\n",
       " 1.0,\n",
       " 1.0,\n",
       " 1.0,\n",
       " 1.0,\n",
       " 1.0,\n",
       " 1.0,\n",
       " 1.0,\n",
       " 1.0,\n",
       " 1.0,\n",
       " 1.0,\n",
       " 1.0,\n",
       " 1.0,\n",
       " 1.0,\n",
       " 1.0]"
      ]
     },
     "execution_count": 4,
     "metadata": {},
     "output_type": "execute_result"
    }
   ],
   "source": [
    "RT = df_WS['RT']\n",
    "prices = df_WS.RT[0:index]\n",
    "print(prices)\n",
    "#print(len(prices))\n",
    "prices = [0.]*3*12+[1.]*3*12\n",
    "T = len(prices)\n",
    "prices"
   ]
  },
  {
   "cell_type": "code",
   "execution_count": 5,
   "id": "d6b70337",
   "metadata": {},
   "outputs": [],
   "source": [
    "# Initialize price parameters\n",
    "#prices = list(range(10,22))\n",
    "T = len(prices)\n",
    "\n",
    "#48 intervals of lower, and 48 intervals of higher price\n",
    "\n",
    "# Initialize variables\n",
    "SOC = cp.Variable((T+1,))\n",
    "x = cp.Variable((T,))\n",
    "#profit = cp.Variable(1,)\n",
    "\n",
    "# Initialize constraints\n",
    "constraints = [SOC[0]==2.]\n",
    "constraints += [SOC[T]==2.]\n",
    "\n",
    "for t in range(T):\n",
    "    #constraints += [(-1<=x[t]), (x[t]<=1), 1<=SOC[t], SOC[t]<=5, SOC[t+1]==1*SOC[t]+x[t]/12.]\n",
    "    constraints += [-1.<=x[t], x[t]<=1., 1.<=SOC[t], SOC[t]<=5., SOC[t+1]==SOC[t]+(x[t]/12)]\n",
    "\n",
    "    # Objective function\n",
    "obj = cp.sum(cp.multiply(prices,-x))\n",
    "obj = cp.Maximize(obj)"
   ]
  },
  {
   "cell_type": "code",
   "execution_count": 6,
   "id": "f43c70ee",
   "metadata": {
    "scrolled": true
   },
   "outputs": [
    {
     "name": "stdout",
     "output_type": "stream",
     "text": [
      "2.9999999997145523\n"
     ]
    }
   ],
   "source": [
    "# Solve problem\n",
    "prob = cp.Problem(obj, constraints)\n",
    "profits = (prob.solve())/12 #returns optimal value = prob.value\n",
    "print(profits)"
   ]
  },
  {
   "cell_type": "code",
   "execution_count": 7,
   "id": "ae60c03c",
   "metadata": {},
   "outputs": [
    {
     "name": "stdout",
     "output_type": "stream",
     "text": [
      "[2.         2.08333333 2.16666667 2.25       2.33333333 2.41666667\n",
      " 2.5        2.58333333 2.66666667 2.75       2.83333333 2.91666667\n",
      " 3.         3.08333333 3.16666667 3.25       3.33333333 3.41666667\n",
      " 3.5        3.58333333 3.66666667 3.75       3.83333333 3.91666667\n",
      " 4.         4.08333333 4.16666667 4.25       4.33333333 4.41666667\n",
      " 4.5        4.58333333 4.66666667 4.75       4.83333333 4.91666667\n",
      " 5.         4.91666667 4.83333333 4.75       4.66666667 4.58333333\n",
      " 4.5        4.41666667 4.33333333 4.25       4.16666667 4.08333333\n",
      " 4.         3.91666667 3.83333333 3.75       3.66666667 3.58333333\n",
      " 3.5        3.41666667 3.33333333 3.25       3.16666667 3.08333333\n",
      " 3.         2.91666667 2.83333333 2.75       2.66666667 2.58333333\n",
      " 2.5        2.41666667 2.33333333 2.25       2.16666667 2.08333333\n",
      " 2.        ]\n"
     ]
    }
   ],
   "source": [
    "SOC_values = SOC.value\n",
    "print(SOC_values)"
   ]
  },
  {
   "cell_type": "code",
   "execution_count": 8,
   "id": "c3e5508f",
   "metadata": {},
   "outputs": [
    {
     "name": "stdout",
     "output_type": "stream",
     "text": [
      "status: optimal\n",
      "optimal value 35.99999999657463\n",
      "optimal var [ 1.  1.  1.  1.  1.  1.  1.  1.  1.  1.  1.  1.  1.  1.  1.  1.  1.  1.\n",
      "  1.  1.  1.  1.  1.  1.  1.  1.  1.  1.  1.  1.  1.  1.  1.  1.  1.  1.\n",
      " -1. -1. -1. -1. -1. -1. -1. -1. -1. -1. -1. -1. -1. -1. -1. -1. -1. -1.\n",
      " -1. -1. -1. -1. -1. -1. -1. -1. -1. -1. -1. -1. -1. -1. -1. -1. -1. -1.]\n",
      "var1\n"
     ]
    }
   ],
   "source": [
    "# Print output and solution characteristics\n",
    "\n",
    "print(\"status:\", prob.status)\n",
    "print(\"optimal value\", prob.value)\n",
    "print(\"optimal var\", x.value)\n",
    "print(x)\n",
    "\n",
    "# is it ok that the x array contains values other than -1, 0, 1?\n",
    "#for the test, first half is positive because charging, and second half is discharging"
   ]
  },
  {
   "cell_type": "code",
   "execution_count": 9,
   "id": "82b6c7bb",
   "metadata": {},
   "outputs": [
    {
     "name": "stdout",
     "output_type": "stream",
     "text": [
      "[ 1.  1.  1.  1.  1.  1.  1.  1.  1.  1.  1.  1.  1.  1.  1.  1.  1.  1.\n",
      "  1.  1.  1.  1.  1.  1.  1.  1.  1.  1.  1.  1.  1.  1.  1.  1.  1.  1.\n",
      " -1. -1. -1. -1. -1. -1. -1. -1. -1. -1. -1. -1. -1. -1. -1. -1. -1. -1.\n",
      " -1. -1. -1. -1. -1. -1. -1. -1. -1. -1. -1. -1. -1. -1. -1. -1. -1. -1.]\n"
     ]
    }
   ],
   "source": [
    "x_values = x.value\n",
    "print(x_values)"
   ]
  },
  {
   "cell_type": "code",
   "execution_count": 10,
   "id": "68339363",
   "metadata": {},
   "outputs": [],
   "source": [
    "Pd = 0\n",
    "Qd = x_values[0]\n",
    "SOC = 2\n",
    "df_store = pd.DataFrame(columns=['timestamp', 'RT', 'SOC_t', 'dispatch'])"
   ]
  },
  {
   "cell_type": "code",
   "execution_count": 11,
   "id": "68d37435",
   "metadata": {},
   "outputs": [
    {
     "data": {
      "text/plain": [
       "72"
      ]
     },
     "execution_count": 11,
     "metadata": {},
     "output_type": "execute_result"
    }
   ],
   "source": [
    "len(x_values)"
   ]
  },
  {
   "cell_type": "code",
   "execution_count": 12,
   "id": "a70ecf6f",
   "metadata": {},
   "outputs": [
    {
     "data": {
      "text/plain": [
       "array([ 1.,  1.,  1.,  1.,  1.,  1.,  1.,  1.,  1.,  1.,  1.,  1.,  1.,\n",
       "        1.,  1.,  1.,  1.,  1.,  1.,  1.,  1.,  1.,  1.,  1.,  1.,  1.,\n",
       "        1.,  1.,  1.,  1.,  1.,  1.,  1.,  1.,  1.,  1., -1., -1., -1.,\n",
       "       -1., -1., -1., -1., -1., -1., -1., -1., -1., -1., -1., -1., -1.,\n",
       "       -1., -1., -1., -1., -1., -1., -1., -1., -1., -1., -1., -1., -1.,\n",
       "       -1., -1., -1., -1., -1., -1., -1.])"
      ]
     },
     "execution_count": 12,
     "metadata": {},
     "output_type": "execute_result"
    }
   ],
   "source": [
    "(x_values)"
   ]
  },
  {
   "cell_type": "code",
   "execution_count": 13,
   "id": "b725790b",
   "metadata": {},
   "outputs": [
    {
     "data": {
      "text/plain": [
       "72"
      ]
     },
     "execution_count": 13,
     "metadata": {},
     "output_type": "execute_result"
    }
   ],
   "source": [
    "\n",
    "first_element=[0]\n",
    "SOC_values_final = np.delete(SOC_values, first_element)\n",
    "SOC_values_final.size\n"
   ]
  },
  {
   "cell_type": "code",
   "execution_count": 14,
   "id": "fe452a0a",
   "metadata": {},
   "outputs": [],
   "source": [
    "df_WS = df_WS[~df_WS.index.duplicated(keep='last')]\n",
    "df_WS_restricted = df_WS.loc[market_intervals]"
   ]
  },
  {
   "cell_type": "code",
   "execution_count": 15,
   "id": "37f9b79f",
   "metadata": {},
   "outputs": [
    {
     "data": {
      "text/html": [
       "<div>\n",
       "<style scoped>\n",
       "    .dataframe tbody tr th:only-of-type {\n",
       "        vertical-align: middle;\n",
       "    }\n",
       "\n",
       "    .dataframe tbody tr th {\n",
       "        vertical-align: top;\n",
       "    }\n",
       "\n",
       "    .dataframe thead th {\n",
       "        text-align: right;\n",
       "    }\n",
       "</style>\n",
       "<table border=\"1\" class=\"dataframe\">\n",
       "  <thead>\n",
       "    <tr style=\"text-align: right;\">\n",
       "      <th></th>\n",
       "      <th>timestamp</th>\n",
       "      <th>RT</th>\n",
       "      <th>SOC_t</th>\n",
       "      <th>dispatch</th>\n",
       "    </tr>\n",
       "  </thead>\n",
       "  <tbody>\n",
       "    <tr>\n",
       "      <th>0</th>\n",
       "      <td>0</td>\n",
       "      <td>0.0</td>\n",
       "      <td>2.083333</td>\n",
       "      <td>1.0</td>\n",
       "    </tr>\n",
       "    <tr>\n",
       "      <th>1</th>\n",
       "      <td>1</td>\n",
       "      <td>0.0</td>\n",
       "      <td>2.166667</td>\n",
       "      <td>1.0</td>\n",
       "    </tr>\n",
       "    <tr>\n",
       "      <th>2</th>\n",
       "      <td>2</td>\n",
       "      <td>0.0</td>\n",
       "      <td>2.250000</td>\n",
       "      <td>1.0</td>\n",
       "    </tr>\n",
       "    <tr>\n",
       "      <th>3</th>\n",
       "      <td>3</td>\n",
       "      <td>0.0</td>\n",
       "      <td>2.333333</td>\n",
       "      <td>1.0</td>\n",
       "    </tr>\n",
       "    <tr>\n",
       "      <th>4</th>\n",
       "      <td>4</td>\n",
       "      <td>0.0</td>\n",
       "      <td>2.416667</td>\n",
       "      <td>1.0</td>\n",
       "    </tr>\n",
       "    <tr>\n",
       "      <th>...</th>\n",
       "      <td>...</td>\n",
       "      <td>...</td>\n",
       "      <td>...</td>\n",
       "      <td>...</td>\n",
       "    </tr>\n",
       "    <tr>\n",
       "      <th>67</th>\n",
       "      <td>67</td>\n",
       "      <td>1.0</td>\n",
       "      <td>2.333333</td>\n",
       "      <td>-1.0</td>\n",
       "    </tr>\n",
       "    <tr>\n",
       "      <th>68</th>\n",
       "      <td>68</td>\n",
       "      <td>1.0</td>\n",
       "      <td>2.250000</td>\n",
       "      <td>-1.0</td>\n",
       "    </tr>\n",
       "    <tr>\n",
       "      <th>69</th>\n",
       "      <td>69</td>\n",
       "      <td>1.0</td>\n",
       "      <td>2.166667</td>\n",
       "      <td>-1.0</td>\n",
       "    </tr>\n",
       "    <tr>\n",
       "      <th>70</th>\n",
       "      <td>70</td>\n",
       "      <td>1.0</td>\n",
       "      <td>2.083333</td>\n",
       "      <td>-1.0</td>\n",
       "    </tr>\n",
       "    <tr>\n",
       "      <th>71</th>\n",
       "      <td>71</td>\n",
       "      <td>1.0</td>\n",
       "      <td>2.000000</td>\n",
       "      <td>-1.0</td>\n",
       "    </tr>\n",
       "  </tbody>\n",
       "</table>\n",
       "<p>72 rows × 4 columns</p>\n",
       "</div>"
      ],
      "text/plain": [
       "    timestamp   RT     SOC_t  dispatch\n",
       "0           0  0.0  2.083333       1.0\n",
       "1           1  0.0  2.166667       1.0\n",
       "2           2  0.0  2.250000       1.0\n",
       "3           3  0.0  2.333333       1.0\n",
       "4           4  0.0  2.416667       1.0\n",
       "..        ...  ...       ...       ...\n",
       "67         67  1.0  2.333333      -1.0\n",
       "68         68  1.0  2.250000      -1.0\n",
       "69         69  1.0  2.166667      -1.0\n",
       "70         70  1.0  2.083333      -1.0\n",
       "71         71  1.0  2.000000      -1.0\n",
       "\n",
       "[72 rows x 4 columns]"
      ]
     },
     "execution_count": 15,
     "metadata": {},
     "output_type": "execute_result"
    }
   ],
   "source": [
    "#df_store['timestamp'] = df_WS_restricted.index\n",
    "#df_store['RT'] = df_store.timestamp.map(df_WS_restricted['RT'].to_dict())\n",
    "df_store['timestamp'] = range(len(prices))\n",
    "df_store['RT'] = prices\n",
    "df_store['SOC_t'] = SOC_values_final\n",
    "df_store['dispatch'] = x_values\n",
    "\n",
    "# df_store.loc[df_store.duplicated(subset='timestamp')]\n",
    "\n",
    "#df_store.drop_duplicates(subset='timestamp', keep='last', inplace=True)\n",
    "#get df_store to be same size as x_values and SOC_values\n",
    "#directly write this array to dataframe column\n",
    "df_store"
   ]
  },
  {
   "cell_type": "code",
   "execution_count": 16,
   "id": "055a6404",
   "metadata": {
    "scrolled": true
   },
   "outputs": [
    {
     "ename": "IndexError",
     "evalue": "single positional indexer is out-of-bounds",
     "output_type": "error",
     "traceback": [
      "\u001b[1;31m---------------------------------------------------------------------------\u001b[0m",
      "\u001b[1;31mIndexError\u001b[0m                                Traceback (most recent call last)",
      "\u001b[1;32m<ipython-input-16-eb6dcf0a7a79>\u001b[0m in \u001b[0;36m<module>\u001b[1;34m\u001b[0m\n\u001b[0;32m      2\u001b[0m \u001b[1;31m#do not use\u001b[0m\u001b[1;33m\u001b[0m\u001b[1;33m\u001b[0m\u001b[1;33m\u001b[0m\u001b[0m\n\u001b[0;32m      3\u001b[0m \u001b[0mmax_timestamp\u001b[0m \u001b[1;33m=\u001b[0m \u001b[0mdf_store\u001b[0m\u001b[1;33m.\u001b[0m\u001b[0mloc\u001b[0m\u001b[1;33m[\u001b[0m\u001b[0mdf_store\u001b[0m\u001b[1;33m.\u001b[0m\u001b[0mSOC_t\u001b[0m \u001b[1;33m>=\u001b[0m \u001b[1;36m4.99\u001b[0m\u001b[1;33m,\u001b[0m \u001b[1;34m'timestamp'\u001b[0m\u001b[1;33m]\u001b[0m\u001b[1;33m.\u001b[0m\u001b[0miloc\u001b[0m\u001b[1;33m[\u001b[0m\u001b[1;36m0\u001b[0m\u001b[1;33m]\u001b[0m\u001b[1;33m\u001b[0m\u001b[1;33m\u001b[0m\u001b[0m\n\u001b[1;32m----> 4\u001b[1;33m \u001b[0mmin_timestamp\u001b[0m \u001b[1;33m=\u001b[0m \u001b[0mdf_store\u001b[0m\u001b[1;33m.\u001b[0m\u001b[0mloc\u001b[0m\u001b[1;33m[\u001b[0m\u001b[0mdf_store\u001b[0m\u001b[1;33m.\u001b[0m\u001b[0mSOC_t\u001b[0m \u001b[1;33m<=\u001b[0m \u001b[1;36m1.01\u001b[0m\u001b[1;33m,\u001b[0m \u001b[1;34m'timestamp'\u001b[0m\u001b[1;33m]\u001b[0m\u001b[1;33m.\u001b[0m\u001b[0miloc\u001b[0m\u001b[1;33m[\u001b[0m\u001b[1;36m0\u001b[0m\u001b[1;33m]\u001b[0m\u001b[1;33m\u001b[0m\u001b[1;33m\u001b[0m\u001b[0m\n\u001b[0m\u001b[0;32m      5\u001b[0m \u001b[0mprint\u001b[0m\u001b[1;33m(\u001b[0m\u001b[0mmax_timestamp\u001b[0m\u001b[1;33m)\u001b[0m\u001b[1;33m\u001b[0m\u001b[1;33m\u001b[0m\u001b[0m\n\u001b[0;32m      6\u001b[0m \u001b[0mprint\u001b[0m\u001b[1;33m(\u001b[0m\u001b[0mmin_timestamp\u001b[0m\u001b[1;33m)\u001b[0m\u001b[1;33m\u001b[0m\u001b[1;33m\u001b[0m\u001b[0m\n",
      "\u001b[1;32m~\\anaconda3\\lib\\site-packages\\pandas\\core\\indexing.py\u001b[0m in \u001b[0;36m__getitem__\u001b[1;34m(self, key)\u001b[0m\n\u001b[0;32m    893\u001b[0m \u001b[1;33m\u001b[0m\u001b[0m\n\u001b[0;32m    894\u001b[0m             \u001b[0mmaybe_callable\u001b[0m \u001b[1;33m=\u001b[0m \u001b[0mcom\u001b[0m\u001b[1;33m.\u001b[0m\u001b[0mapply_if_callable\u001b[0m\u001b[1;33m(\u001b[0m\u001b[0mkey\u001b[0m\u001b[1;33m,\u001b[0m \u001b[0mself\u001b[0m\u001b[1;33m.\u001b[0m\u001b[0mobj\u001b[0m\u001b[1;33m)\u001b[0m\u001b[1;33m\u001b[0m\u001b[1;33m\u001b[0m\u001b[0m\n\u001b[1;32m--> 895\u001b[1;33m             \u001b[1;32mreturn\u001b[0m \u001b[0mself\u001b[0m\u001b[1;33m.\u001b[0m\u001b[0m_getitem_axis\u001b[0m\u001b[1;33m(\u001b[0m\u001b[0mmaybe_callable\u001b[0m\u001b[1;33m,\u001b[0m \u001b[0maxis\u001b[0m\u001b[1;33m=\u001b[0m\u001b[0maxis\u001b[0m\u001b[1;33m)\u001b[0m\u001b[1;33m\u001b[0m\u001b[1;33m\u001b[0m\u001b[0m\n\u001b[0m\u001b[0;32m    896\u001b[0m \u001b[1;33m\u001b[0m\u001b[0m\n\u001b[0;32m    897\u001b[0m     \u001b[1;32mdef\u001b[0m \u001b[0m_is_scalar_access\u001b[0m\u001b[1;33m(\u001b[0m\u001b[0mself\u001b[0m\u001b[1;33m,\u001b[0m \u001b[0mkey\u001b[0m\u001b[1;33m:\u001b[0m \u001b[0mTuple\u001b[0m\u001b[1;33m)\u001b[0m\u001b[1;33m:\u001b[0m\u001b[1;33m\u001b[0m\u001b[1;33m\u001b[0m\u001b[0m\n",
      "\u001b[1;32m~\\anaconda3\\lib\\site-packages\\pandas\\core\\indexing.py\u001b[0m in \u001b[0;36m_getitem_axis\u001b[1;34m(self, key, axis)\u001b[0m\n\u001b[0;32m   1499\u001b[0m \u001b[1;33m\u001b[0m\u001b[0m\n\u001b[0;32m   1500\u001b[0m             \u001b[1;31m# validate the location\u001b[0m\u001b[1;33m\u001b[0m\u001b[1;33m\u001b[0m\u001b[1;33m\u001b[0m\u001b[0m\n\u001b[1;32m-> 1501\u001b[1;33m             \u001b[0mself\u001b[0m\u001b[1;33m.\u001b[0m\u001b[0m_validate_integer\u001b[0m\u001b[1;33m(\u001b[0m\u001b[0mkey\u001b[0m\u001b[1;33m,\u001b[0m \u001b[0maxis\u001b[0m\u001b[1;33m)\u001b[0m\u001b[1;33m\u001b[0m\u001b[1;33m\u001b[0m\u001b[0m\n\u001b[0m\u001b[0;32m   1502\u001b[0m \u001b[1;33m\u001b[0m\u001b[0m\n\u001b[0;32m   1503\u001b[0m             \u001b[1;32mreturn\u001b[0m \u001b[0mself\u001b[0m\u001b[1;33m.\u001b[0m\u001b[0mobj\u001b[0m\u001b[1;33m.\u001b[0m\u001b[0m_ixs\u001b[0m\u001b[1;33m(\u001b[0m\u001b[0mkey\u001b[0m\u001b[1;33m,\u001b[0m \u001b[0maxis\u001b[0m\u001b[1;33m=\u001b[0m\u001b[0maxis\u001b[0m\u001b[1;33m)\u001b[0m\u001b[1;33m\u001b[0m\u001b[1;33m\u001b[0m\u001b[0m\n",
      "\u001b[1;32m~\\anaconda3\\lib\\site-packages\\pandas\\core\\indexing.py\u001b[0m in \u001b[0;36m_validate_integer\u001b[1;34m(self, key, axis)\u001b[0m\n\u001b[0;32m   1442\u001b[0m         \u001b[0mlen_axis\u001b[0m \u001b[1;33m=\u001b[0m \u001b[0mlen\u001b[0m\u001b[1;33m(\u001b[0m\u001b[0mself\u001b[0m\u001b[1;33m.\u001b[0m\u001b[0mobj\u001b[0m\u001b[1;33m.\u001b[0m\u001b[0m_get_axis\u001b[0m\u001b[1;33m(\u001b[0m\u001b[0maxis\u001b[0m\u001b[1;33m)\u001b[0m\u001b[1;33m)\u001b[0m\u001b[1;33m\u001b[0m\u001b[1;33m\u001b[0m\u001b[0m\n\u001b[0;32m   1443\u001b[0m         \u001b[1;32mif\u001b[0m \u001b[0mkey\u001b[0m \u001b[1;33m>=\u001b[0m \u001b[0mlen_axis\u001b[0m \u001b[1;32mor\u001b[0m \u001b[0mkey\u001b[0m \u001b[1;33m<\u001b[0m \u001b[1;33m-\u001b[0m\u001b[0mlen_axis\u001b[0m\u001b[1;33m:\u001b[0m\u001b[1;33m\u001b[0m\u001b[1;33m\u001b[0m\u001b[0m\n\u001b[1;32m-> 1444\u001b[1;33m             \u001b[1;32mraise\u001b[0m \u001b[0mIndexError\u001b[0m\u001b[1;33m(\u001b[0m\u001b[1;34m\"single positional indexer is out-of-bounds\"\u001b[0m\u001b[1;33m)\u001b[0m\u001b[1;33m\u001b[0m\u001b[1;33m\u001b[0m\u001b[0m\n\u001b[0m\u001b[0;32m   1445\u001b[0m \u001b[1;33m\u001b[0m\u001b[0m\n\u001b[0;32m   1446\u001b[0m     \u001b[1;31m# -------------------------------------------------------------------\u001b[0m\u001b[1;33m\u001b[0m\u001b[1;33m\u001b[0m\u001b[1;33m\u001b[0m\u001b[0m\n",
      "\u001b[1;31mIndexError\u001b[0m: single positional indexer is out-of-bounds"
     ]
    }
   ],
   "source": [
    "#find when SOC reaches max value\n",
    "#do not use \n",
    "max_timestamp = df_store.loc[df_store.SOC_t >= 4.99, 'timestamp'].iloc[0]\n",
    "min_timestamp = df_store.loc[df_store.SOC_t <= 1.01, 'timestamp'].iloc[0]\n",
    "print(max_timestamp)\n",
    "print(min_timestamp)\n",
    "time_to_max = pd.date_range(min_timestamp,max_timestamp,freq=str(int(interval/60))+'min')\n",
    "print(time_to_max)\n",
    "delta = max_timestamp - min_timestamp\n",
    "max_to_2max = pd.date_range(max_timestamp,max_timestamp + delta,freq=str(int(interval/60))+'min')\n",
    "print(max_to_2max)\n",
    "time_to_max_prices = df_store[df_store.timestamp.isin(time_to_max)]\n",
    "max_to_2max_prices = df_store[df_store.timestamp.isin(max_to_2max)]\n",
    "time_to_max_prices.RT.mean(), max_to_2max_prices.RT.mean()"
   ]
  },
  {
   "cell_type": "code",
   "execution_count": 25,
   "id": "fd026c5a",
   "metadata": {},
   "outputs": [],
   "source": [
    "def visualize_battery_dispatch(data):\n",
    "    # Visualize battery dispatch over time as well as the market price\n",
    "    fig = plt.figure(figsize=(9,3),dpi=150) \n",
    "    ax = fig.add_subplot(111)\n",
    "    \n",
    "    plot1 = ax.plot(data.timestamp, data.RT, color='xkcd:sky blue', label='RT')\n",
    "    ax.set_xlabel('Time')\n",
    "    ax.set_ylabel('Real-time price (USD/MWh)')\n",
    "    #ax.set_xlim(xmin=data.iloc[0]['timestamp'], xmax=data.iloc[-1]['timestamp']+pd.Timedelta(days=1))\n",
    "    ax.set_xticklabels(ax.get_xticklabels(), fontsize=7)\n",
    "    ax.set_ylim(-1,5)\n",
    "\n",
    "    ax2 = ax.twinx()\n",
    "    plot2 = ax2.plot(data.timestamp, data.SOC_t, color='orange', label='SOC')\n",
    "    ax2.set_ylabel('State of Charge')\n",
    "    ax2.set_ylim(-4,10)\n",
    "    \n",
    "    \n",
    "    ax3 = ax.twinx()\n",
    "    rspine = ax3.spines['right']\n",
    "    rspine.set_position(('axes', 1.15))\n",
    "    ax3.set_frame_on(True)\n",
    "    ax3.patch.set_visible(False)\n",
    "    fig.subplots_adjust(right=0.7)\n",
    "\n",
    "    plot3 = ax3.plot(data.timestamp, data.dispatch, color='red', label='load')\n",
    "    ax3.set_ylabel('Load Dispatched')\n",
    "    ax3.set_ylim(-8,2)\n",
    "\n",
    "\n",
    "    plots = plot1 + plot2 + plot3\n",
    "    labs = [l.get_label() for l in plots]\n",
    "    L = ax.legend(plots, labs, bbox_to_anchor=(0.5, -0.4), loc='lower center', ncol=len(labs))"
   ]
  },
  {
   "cell_type": "code",
   "execution_count": 26,
   "id": "7e8a1adb",
   "metadata": {
    "scrolled": false
   },
   "outputs": [
    {
     "name": "stderr",
     "output_type": "stream",
     "text": [
      "<ipython-input-25-daac4929cbb2>:10: UserWarning: FixedFormatter should only be used together with FixedLocator\n",
      "  ax.set_xticklabels(ax.get_xticklabels(), fontsize=7)\n"
     ]
    },
    {
     "data": {
      "image/png": "[encoded data removed]",
      "text/plain": [
       "<Figure size 1350x450 with 3 Axes>"
      ]
     },
     "metadata": {
      "needs_background": "light"
     },
     "output_type": "display_data"
    }
   ],
   "source": [
    "visualize_battery_dispatch(df_store)"
   ]
  },
  {
   "cell_type": "code",
   "execution_count": 19,
   "id": "37c9f09e",
   "metadata": {},
   "outputs": [],
   "source": [
    "# pd.daterange(.rand(), end_whichis_96intervalslater, freq=5)\n",
    "xs = []\n",
    "ys = []\n",
    "for i in range(5000):\n",
    "    begin_index = rd.sample(range(len(market_intervals)), 1)[0]\n",
    "    sample_times = market_intervals[begin_index:begin_index+96]\n",
    "    df_store_sample = df_store[df_store.timestamp.isin(sample_times)]\n",
    "    \n",
    "    ys.append(df_store_sample.iloc[:48].RT.mean() - df_store_sample.iloc[48:].RT.mean())\n",
    "    xs.append(df_store_sample.iloc[:48].dispatch.mean() - df_store_sample.iloc[48:].dispatch.mean())"
   ]
  },
  {
   "cell_type": "code",
   "execution_count": 20,
   "id": "198c6e40",
   "metadata": {},
   "outputs": [
    {
     "data": {
      "text/plain": [
       "<matplotlib.collections.PathCollection at 0x15796834640>"
      ]
     },
     "execution_count": 20,
     "metadata": {},
     "output_type": "execute_result"
    },
    {
     "data": {
      "image/png": "[encoded data removed]",
      "text/plain": [
       "<Figure size 432x288 with 1 Axes>"
      ]
     },
     "metadata": {
      "needs_background": "light"
     },
     "output_type": "display_data"
    }
   ],
   "source": [
    "#doesn't dispatch when it is supposed to\n",
    "plt.scatter(xs, ys)"
   ]
  }
 ],
 "metadata": {
  "kernelspec": {
   "display_name": "Python 3",
   "language": "python",
   "name": "python3"
  },
  "language_info": {
   "codemirror_mode": {
    "name": "ipython",
    "version": 3
   },
   "file_extension": ".py",
   "mimetype": "text/x-python",
   "name": "python",
   "nbconvert_exporter": "python",
   "pygments_lexer": "ipython3",
   "version": "3.8.8"
  }
 },
 "nbformat": 4,
 "nbformat_minor": 5
}
