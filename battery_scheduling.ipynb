{
 "cells": [
  {
   "cell_type": "code",
   "execution_count": 1,
   "id": "90435de3",
   "metadata": {},
   "outputs": [],
   "source": [
    "import cvxpy as cp\n",
    "import numpy as np\n",
    "import pandas as pd\n",
    "import datetime\n",
    "import matplotlib.pyplot as plt\n",
    "import matplotlib.dates as mdates"
   ]
  },
  {
   "cell_type": "code",
   "execution_count": 2,
   "id": "9f16a995",
   "metadata": {},
   "outputs": [
    {
     "data": {
      "text/html": [
       "<div>\n",
       "<style scoped>\n",
       "    .dataframe tbody tr th:only-of-type {\n",
       "        vertical-align: middle;\n",
       "    }\n",
       "\n",
       "    .dataframe tbody tr th {\n",
       "        vertical-align: top;\n",
       "    }\n",
       "\n",
       "    .dataframe thead th {\n",
       "        text-align: right;\n",
       "    }\n",
       "</style>\n",
       "<table border=\"1\" class=\"dataframe\">\n",
       "  <thead>\n",
       "    <tr style=\"text-align: right;\">\n",
       "      <th></th>\n",
       "      <th>DA</th>\n",
       "      <th>RT</th>\n",
       "    </tr>\n",
       "  </thead>\n",
       "  <tbody>\n",
       "    <tr>\n",
       "      <th>2016-01-01 00:00:00</th>\n",
       "      <td>18.22</td>\n",
       "      <td>15.48</td>\n",
       "    </tr>\n",
       "    <tr>\n",
       "      <th>2016-01-01 00:05:00</th>\n",
       "      <td>18.22</td>\n",
       "      <td>15.48</td>\n",
       "    </tr>\n",
       "    <tr>\n",
       "      <th>2016-01-01 00:10:00</th>\n",
       "      <td>18.22</td>\n",
       "      <td>15.48</td>\n",
       "    </tr>\n",
       "    <tr>\n",
       "      <th>2016-01-01 00:15:00</th>\n",
       "      <td>18.22</td>\n",
       "      <td>15.33</td>\n",
       "    </tr>\n",
       "    <tr>\n",
       "      <th>2016-01-01 00:20:00</th>\n",
       "      <td>18.22</td>\n",
       "      <td>15.33</td>\n",
       "    </tr>\n",
       "  </tbody>\n",
       "</table>\n",
       "</div>"
      ],
      "text/plain": [
       "                        DA     RT\n",
       "2016-01-01 00:00:00  18.22  15.48\n",
       "2016-01-01 00:05:00  18.22  15.48\n",
       "2016-01-01 00:10:00  18.22  15.48\n",
       "2016-01-01 00:15:00  18.22  15.33\n",
       "2016-01-01 00:20:00  18.22  15.33"
      ]
     },
     "execution_count": 2,
     "metadata": {},
     "output_type": "execute_result"
    }
   ],
   "source": [
    "df_WS = pd.read_csv('glm_generation_Austin/Ercot_LZ_SOUTH.csv',parse_dates=True,index_col=[0]) # For year 2016\n",
    "df_WS.head()"
   ]
  },
  {
   "cell_type": "code",
   "execution_count": 3,
   "id": "60efa721",
   "metadata": {},
   "outputs": [
    {
     "name": "stdout",
     "output_type": "stream",
     "text": [
      "1741\n"
     ]
    }
   ],
   "source": [
    "start = datetime.datetime( 2016, 7, 1)\n",
    "end = datetime.datetime( 2016, 7, 7, 1, 0)\n",
    "interval = 300 # interval of market operation\n",
    "market_intervals = pd.date_range(start,end,freq=str(int(interval/60))+'min')\n",
    "market_intervals #the first hour in 5 minute increments\n",
    "index = len(market_intervals)\n",
    "print(len(market_intervals))"
   ]
  },
  {
   "cell_type": "code",
   "execution_count": 4,
   "id": "a32518c3",
   "metadata": {},
   "outputs": [
    {
     "name": "stdout",
     "output_type": "stream",
     "text": [
      "2016-01-01 00:00:00    15.48\n",
      "2016-01-01 00:05:00    15.48\n",
      "2016-01-01 00:10:00    15.48\n",
      "2016-01-01 00:15:00    15.33\n",
      "2016-01-01 00:20:00    15.33\n",
      "                       ...  \n",
      "2016-01-06 22:15:00    19.68\n",
      "2016-01-06 22:20:00    19.68\n",
      "2016-01-06 22:25:00    19.68\n",
      "2016-01-06 22:30:00    19.13\n",
      "2016-01-06 22:35:00    19.13\n",
      "Name: RT, Length: 1741, dtype: float64\n"
     ]
    }
   ],
   "source": [
    "RT = df_WS['RT']\n",
    "prices = df_WS.RT[0:index]\n",
    "print(prices)\n",
    "#print(len(prices))"
   ]
  },
  {
   "cell_type": "code",
   "execution_count": 5,
   "id": "d6b70337",
   "metadata": {},
   "outputs": [],
   "source": [
    "# Initialize price parameters\n",
    "#prices = list(range(10,22))\n",
    "T = len(prices)\n",
    "\n",
    "# Initialize variables\n",
    "SOC = cp.Variable((T+1,))\n",
    "x = cp.Variable((T,))\n",
    "\n",
    "# Initialize constraints\n",
    "constraints = [(SOC[0]==2), (SOC[T]==2)]\n",
    "for t in range(T):\n",
    "    constraints += [(-1<=x[t]), (x[t]<=1), 1<=SOC[t], SOC[t]<=5, SOC[t+1]==0.9999*SOC[t]+x[t]/12.]\n",
    "\n",
    "# Objective function\n",
    "#obj = cp.sum(prices*x)\n",
    "obj = cp.sum(cp.multiply(prices,x))\n",
    "obj = cp.Maximize(obj)"
   ]
  },
  {
   "cell_type": "code",
   "execution_count": 6,
   "id": "f43c70ee",
   "metadata": {},
   "outputs": [
    {
     "name": "stdout",
     "output_type": "stream",
     "text": [
      "3569.6492221947087\n"
     ]
    }
   ],
   "source": [
    "# Solve problem\n",
    "prob = cp.Problem(obj, constraints)\n",
    "profits = prob.solve() #returns optimal value = prob.value\n",
    "print(profits)"
   ]
  },
  {
   "cell_type": "code",
   "execution_count": 7,
   "id": "ae60c03c",
   "metadata": {},
   "outputs": [],
   "source": [
    "SOC_values = SOC.value"
   ]
  },
  {
   "cell_type": "code",
   "execution_count": 8,
   "id": "c3e5508f",
   "metadata": {},
   "outputs": [
    {
     "name": "stdout",
     "output_type": "stream",
     "text": [
      "status: optimal\n",
      "optimal value 3569.6492221947087\n",
      "optimal var [ 1.  1.  1. ... -1. -1. -1.]\n",
      "var1\n"
     ]
    }
   ],
   "source": [
    "# Print output and solution characteristics\n",
    "\n",
    "print(\"status:\", prob.status)\n",
    "print(\"optimal value\", prob.value)\n",
    "print(\"optimal var\", x.value)\n",
    "print(x)\n",
    "\n",
    "# is it ok that the x array contains values other than -1, 0, 1?"
   ]
  },
  {
   "cell_type": "code",
   "execution_count": 9,
   "id": "82b6c7bb",
   "metadata": {},
   "outputs": [
    {
     "name": "stdout",
     "output_type": "stream",
     "text": [
      "[ 1.  1.  1. ... -1. -1. -1.]\n"
     ]
    }
   ],
   "source": [
    "x_values = x.value\n",
    "print(x_values)"
   ]
  },
  {
   "cell_type": "code",
   "execution_count": 10,
   "id": "68339363",
   "metadata": {},
   "outputs": [],
   "source": [
    "Pd = 0\n",
    "Qd = x_values[0]\n",
    "SOC = 2\n",
    "df_store = pd.DataFrame(columns=['timestamp', 'RT', 'SOC_t', 'dispatch'])"
   ]
  },
  {
   "cell_type": "code",
   "execution_count": 11,
   "id": "6571a04a",
   "metadata": {},
   "outputs": [
    {
     "data": {
      "text/html": [
       "<div>\n",
       "<style scoped>\n",
       "    .dataframe tbody tr th:only-of-type {\n",
       "        vertical-align: middle;\n",
       "    }\n",
       "\n",
       "    .dataframe tbody tr th {\n",
       "        vertical-align: top;\n",
       "    }\n",
       "\n",
       "    .dataframe thead th {\n",
       "        text-align: right;\n",
       "    }\n",
       "</style>\n",
       "<table border=\"1\" class=\"dataframe\">\n",
       "  <thead>\n",
       "    <tr style=\"text-align: right;\">\n",
       "      <th></th>\n",
       "      <th>timestamp</th>\n",
       "      <th>RT</th>\n",
       "      <th>SOC_t</th>\n",
       "      <th>dispatch</th>\n",
       "    </tr>\n",
       "  </thead>\n",
       "  <tbody>\n",
       "  </tbody>\n",
       "</table>\n",
       "</div>"
      ],
      "text/plain": [
       "Empty DataFrame\n",
       "Columns: [timestamp, RT, SOC_t, dispatch]\n",
       "Index: []"
      ]
     },
     "execution_count": 11,
     "metadata": {},
     "output_type": "execute_result"
    }
   ],
   "source": [
    "df_store"
   ]
  },
  {
   "cell_type": "code",
   "execution_count": 12,
   "id": "68d37435",
   "metadata": {},
   "outputs": [
    {
     "data": {
      "text/plain": [
       "1741"
      ]
     },
     "execution_count": 12,
     "metadata": {},
     "output_type": "execute_result"
    }
   ],
   "source": [
    "len(x_values)"
   ]
  },
  {
   "cell_type": "code",
   "execution_count": 13,
   "id": "a70ecf6f",
   "metadata": {},
   "outputs": [
    {
     "data": {
      "text/plain": [
       "array([ 1.,  1.,  1., ..., -1., -1., -1.])"
      ]
     },
     "execution_count": 13,
     "metadata": {},
     "output_type": "execute_result"
    }
   ],
   "source": [
    "(x_values)"
   ]
  },
  {
   "cell_type": "code",
   "execution_count": 14,
   "id": "b725790b",
   "metadata": {},
   "outputs": [
    {
     "data": {
      "text/plain": [
       "1741"
      ]
     },
     "execution_count": 14,
     "metadata": {},
     "output_type": "execute_result"
    }
   ],
   "source": [
    "\n",
    "first_element=[0]\n",
    "SOC_values_final = np.delete(SOC_values, first_element)\n",
    "SOC_values_final.size\n"
   ]
  },
  {
   "cell_type": "code",
   "execution_count": 15,
   "id": "53cc9765",
   "metadata": {},
   "outputs": [],
   "source": [
    "df_WS = df_WS[~df_WS.index.duplicated(keep='last')]\n",
    "df_WS_restricted = df_WS.loc[market_intervals]"
   ]
  },
  {
   "cell_type": "code",
   "execution_count": 16,
   "id": "37f9b79f",
   "metadata": {},
   "outputs": [
    {
     "data": {
      "text/html": [
       "<div>\n",
       "<style scoped>\n",
       "    .dataframe tbody tr th:only-of-type {\n",
       "        vertical-align: middle;\n",
       "    }\n",
       "\n",
       "    .dataframe tbody tr th {\n",
       "        vertical-align: top;\n",
       "    }\n",
       "\n",
       "    .dataframe thead th {\n",
       "        text-align: right;\n",
       "    }\n",
       "</style>\n",
       "<table border=\"1\" class=\"dataframe\">\n",
       "  <thead>\n",
       "    <tr style=\"text-align: right;\">\n",
       "      <th></th>\n",
       "      <th>timestamp</th>\n",
       "      <th>RT</th>\n",
       "      <th>SOC_t</th>\n",
       "      <th>dispatch</th>\n",
       "    </tr>\n",
       "  </thead>\n",
       "  <tbody>\n",
       "    <tr>\n",
       "      <th>0</th>\n",
       "      <td>2016-07-01 00:00:00</td>\n",
       "      <td>19.48</td>\n",
       "      <td>2.083133</td>\n",
       "      <td>1.0</td>\n",
       "    </tr>\n",
       "    <tr>\n",
       "      <th>1</th>\n",
       "      <td>2016-07-01 00:05:00</td>\n",
       "      <td>19.48</td>\n",
       "      <td>2.166258</td>\n",
       "      <td>1.0</td>\n",
       "    </tr>\n",
       "    <tr>\n",
       "      <th>2</th>\n",
       "      <td>2016-07-01 00:10:00</td>\n",
       "      <td>19.48</td>\n",
       "      <td>2.249375</td>\n",
       "      <td>1.0</td>\n",
       "    </tr>\n",
       "    <tr>\n",
       "      <th>3</th>\n",
       "      <td>2016-07-01 00:15:00</td>\n",
       "      <td>19.92</td>\n",
       "      <td>2.332483</td>\n",
       "      <td>1.0</td>\n",
       "    </tr>\n",
       "    <tr>\n",
       "      <th>4</th>\n",
       "      <td>2016-07-01 00:20:00</td>\n",
       "      <td>19.92</td>\n",
       "      <td>2.415584</td>\n",
       "      <td>1.0</td>\n",
       "    </tr>\n",
       "    <tr>\n",
       "      <th>...</th>\n",
       "      <td>...</td>\n",
       "      <td>...</td>\n",
       "      <td>...</td>\n",
       "      <td>...</td>\n",
       "    </tr>\n",
       "    <tr>\n",
       "      <th>1736</th>\n",
       "      <td>2016-07-07 00:40:00</td>\n",
       "      <td>18.14</td>\n",
       "      <td>2.334217</td>\n",
       "      <td>-1.0</td>\n",
       "    </tr>\n",
       "    <tr>\n",
       "      <th>1737</th>\n",
       "      <td>2016-07-07 00:45:00</td>\n",
       "      <td>17.73</td>\n",
       "      <td>2.250650</td>\n",
       "      <td>-1.0</td>\n",
       "    </tr>\n",
       "    <tr>\n",
       "      <th>1738</th>\n",
       "      <td>2016-07-07 00:50:00</td>\n",
       "      <td>17.73</td>\n",
       "      <td>2.167092</td>\n",
       "      <td>-1.0</td>\n",
       "    </tr>\n",
       "    <tr>\n",
       "      <th>1739</th>\n",
       "      <td>2016-07-07 00:55:00</td>\n",
       "      <td>17.73</td>\n",
       "      <td>2.083542</td>\n",
       "      <td>-1.0</td>\n",
       "    </tr>\n",
       "    <tr>\n",
       "      <th>1740</th>\n",
       "      <td>2016-07-07 01:00:00</td>\n",
       "      <td>18.17</td>\n",
       "      <td>2.000000</td>\n",
       "      <td>-1.0</td>\n",
       "    </tr>\n",
       "  </tbody>\n",
       "</table>\n",
       "<p>1741 rows × 4 columns</p>\n",
       "</div>"
      ],
      "text/plain": [
       "               timestamp     RT     SOC_t  dispatch\n",
       "0    2016-07-01 00:00:00  19.48  2.083133       1.0\n",
       "1    2016-07-01 00:05:00  19.48  2.166258       1.0\n",
       "2    2016-07-01 00:10:00  19.48  2.249375       1.0\n",
       "3    2016-07-01 00:15:00  19.92  2.332483       1.0\n",
       "4    2016-07-01 00:20:00  19.92  2.415584       1.0\n",
       "...                  ...    ...       ...       ...\n",
       "1736 2016-07-07 00:40:00  18.14  2.334217      -1.0\n",
       "1737 2016-07-07 00:45:00  17.73  2.250650      -1.0\n",
       "1738 2016-07-07 00:50:00  17.73  2.167092      -1.0\n",
       "1739 2016-07-07 00:55:00  17.73  2.083542      -1.0\n",
       "1740 2016-07-07 01:00:00  18.17  2.000000      -1.0\n",
       "\n",
       "[1741 rows x 4 columns]"
      ]
     },
     "execution_count": 16,
     "metadata": {},
     "output_type": "execute_result"
    }
   ],
   "source": [
    "df_store['timestamp'] = df_WS_restricted.index\n",
    "df_store['RT'] = df_store.timestamp.map(df_WS_restricted['RT'].to_dict())\n",
    "df_store['SOC_t'] = SOC_values_final\n",
    "df_store['dispatch'] = x_values\n",
    "\n",
    "# df_store.loc[df_store.duplicated(subset='timestamp')]\n",
    "\n",
    "#df_store.drop_duplicates(subset='timestamp', keep='last', inplace=True)\n",
    "#get df_store to be same size as x_values and SOC_values\n",
    "#directly write this array to dataframe column\n",
    "df_store"
   ]
  },
  {
   "cell_type": "code",
   "execution_count": 17,
   "id": "fd026c5a",
   "metadata": {},
   "outputs": [],
   "source": [
    "def visualize_battery_dispatch(data):\n",
    "    # Visualize battery dispatch over time as well as the market price\n",
    "    fig = plt.figure(figsize=(9,3),dpi=150) \n",
    "    ax = fig.add_subplot(111)\n",
    "    \n",
    "    plot1 = ax.plot(data.timestamp, data.RT, color='xkcd:sky blue', label='RT')\n",
    "    ax.set_xlabel('Time')\n",
    "    ax.set_ylabel('Real-time price (USD/MWh)')\n",
    "    ax.set_xlim(xmin=data.iloc[0]['timestamp'], xmax=data.iloc[-1]['timestamp']+pd.Timedelta(days=1))\n",
    "    ax.set_xticklabels(ax.get_xticklabels(), fontsize=7)\n",
    "    ax.set_ylim(0.0,150)\n",
    "\n",
    "    ax2 = ax.twinx()\n",
    "    plot2 = ax2.plot(data.timestamp, data.SOC_t, color='orange', label='SOC')\n",
    "    ax2.set_ylabel('State of Charge')\n",
    "    ax2.set_ylim(-4,10)\n",
    "    \n",
    "    \n",
    "    ax3 = ax.twinx()\n",
    "    rspine = ax3.spines['right']\n",
    "    rspine.set_position(('axes', 1.15))\n",
    "    ax3.set_frame_on(True)\n",
    "    ax3.patch.set_visible(False)\n",
    "    fig.subplots_adjust(right=0.7)\n",
    "\n",
    "    plot3 = ax3.plot(data.timestamp, data.dispatch, color='red', label='load')\n",
    "    ax3.set_ylabel('Load Dispatched')\n",
    "    ax3.set_ylim(-8,2)\n",
    "\n",
    "\n",
    "    plots = plot1 + plot2 + plot3\n",
    "    labs = [l.get_label() for l in plots]\n",
    "    L = ax.legend(plots, labs, bbox_to_anchor=(0.5, -0.4), loc='lower center', ncol=len(labs))"
   ]
  },
  {
   "cell_type": "code",
   "execution_count": 18,
   "id": "7e8a1adb",
   "metadata": {
    "scrolled": false
   },
   "outputs": [
    {
     "name": "stderr",
     "output_type": "stream",
     "text": [
      "<ipython-input-17-f8e1f1707c00>:10: UserWarning: FixedFormatter should only be used together with FixedLocator\n",
      "  ax.set_xticklabels(ax.get_xticklabels(), fontsize=7)\n"
     ]
    },
    {
     "data": {
      "image/png": "[encoded data removed]",
      "text/plain": [
       "<Figure size 1350x450 with 3 Axes>"
      ]
     },
     "metadata": {
      "needs_background": "light"
     },
     "output_type": "display_data"
    }
   ],
   "source": [
    "visualize_battery_dispatch(df_store)"
   ]
  }
 ],
 "metadata": {
  "kernelspec": {
   "display_name": "Python 3",
   "language": "python",
   "name": "python3"
  },
  "language_info": {
   "codemirror_mode": {
    "name": "ipython",
    "version": 3
   },
   "file_extension": ".py",
   "mimetype": "text/x-python",
   "name": "python",
   "nbconvert_exporter": "python",
   "pygments_lexer": "ipython3",
   "version": "3.8.8"
  }
 },
 "nbformat": 4,
 "nbformat_minor": 5
}
