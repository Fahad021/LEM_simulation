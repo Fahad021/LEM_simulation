{
 "cells": [
  {
   "cell_type": "code",
   "execution_count": 1,
   "id": "90435de3",
   "metadata": {},
   "outputs": [],
   "source": [
    "import cvxpy as cp\n",
    "import numpy as np"
   ]
  },
  {
   "cell_type": "code",
   "execution_count": 16,
   "id": "d6b70337",
   "metadata": {},
   "outputs": [
    {
     "name": "stderr",
     "output_type": "stream",
     "text": [
      "/Users/mlarlt/Documents/Research/powernet/market_simulation/venv_market_simulation/lib/python3.9/site-packages/cvxpy/expressions/expression.py:556: UserWarning: \n",
      "This use of ``*`` has resulted in matrix multiplication.\n",
      "Using ``*`` for matrix multiplication has been deprecated since CVXPY 1.1.\n",
      "    Use ``*`` for matrix-scalar and vector-scalar multiplication.\n",
      "    Use ``@`` for matrix-matrix and matrix-vector multiplication.\n",
      "    Use ``multiply`` for elementwise multiplication.\n",
      "This code path has been hit 6 times so far.\n",
      "\n",
      "  warnings.warn(msg, UserWarning)\n"
     ]
    }
   ],
   "source": [
    "# Initialize price parameters\n",
    "prices = list(range(10,22))\n",
    "T = len(prices)\n",
    "\n",
    "# Initialize variables\n",
    "SOC = cp.Variable((T+1,))\n",
    "x = cp.Variable((T,))\n",
    "\n",
    "# Initialize constraints\n",
    "constraints = [SOC[0]==2]\n",
    "constraints = [SOC[T]==2]\n",
    "for t in range(time):\n",
    "    constraints += [-1<=x[t], x[t]<=1, 1<=SOC[t], SOC[t]<=5, SOC[t+1]==SOC[t]+x[t]]\n",
    "\n",
    "# Objective function\n",
    "obj = cp.sum(prices*x)\n",
    "obj = cp.Maximize(obj)"
   ]
  },
  {
   "cell_type": "code",
   "execution_count": 17,
   "id": "f43c70ee",
   "metadata": {},
   "outputs": [
    {
     "data": {
      "text/plain": [
       "20.99999997618658"
      ]
     },
     "execution_count": 17,
     "metadata": {},
     "output_type": "execute_result"
    }
   ],
   "source": [
    "# Solve problem\n",
    "prob = cp.Problem(obj, constraints)\n",
    "prob.solve() #returns optimal value = prob.value"
   ]
  },
  {
   "cell_type": "code",
   "execution_count": 15,
   "id": "c3e5508f",
   "metadata": {},
   "outputs": [
    {
     "name": "stdout",
     "output_type": "stream",
     "text": [
      "status: optimal\n",
      "optimal value 31.999999998491393\n",
      "optimal var [-1.00000000e+00 -1.00000000e+00 -1.00000000e+00 -1.00000000e+00\n",
      " -1.62101196e-10 -5.60410844e-11  5.60846900e-11  1.62150584e-10\n",
      "  1.00000000e+00  1.00000000e+00  1.00000000e+00  1.00000000e+00]\n"
     ]
    }
   ],
   "source": [
    "# Print output and solution characteristics\n",
    "print(\"status:\", prob.status)\n",
    "print(\"optimal value\", prob.value)\n",
    "print(\"optimal var\", x.value)"
   ]
  },
  {
   "cell_type": "code",
   "execution_count": null,
   "id": "86e2ed8a",
   "metadata": {},
   "outputs": [],
   "source": []
  }
 ],
 "metadata": {
  "kernelspec": {
   "display_name": "venv_market_simulation",
   "language": "python",
   "name": "venv_market_simulation"
  },
  "language_info": {
   "codemirror_mode": {
    "name": "ipython",
    "version": 3
   },
   "file_extension": ".py",
   "mimetype": "text/x-python",
   "name": "python",
   "nbconvert_exporter": "python",
   "pygments_lexer": "ipython3",
   "version": "3.9.5"
  }
 },
 "nbformat": 4,
 "nbformat_minor": 5
}
